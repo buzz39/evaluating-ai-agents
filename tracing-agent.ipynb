{
 "cells": [
  {
   "cell_type": "code",
   "execution_count": 1,
   "id": "0d5e665a-d4f5-407f-8fcf-9cdcf0ea9fac",
   "metadata": {
    "tags": []
   },
   "outputs": [
    {
     "name": "stdout",
     "output_type": "stream",
     "text": [
      "Requirement already satisfied: openai in c:\\python312\\lib\\site-packages (1.55.3)\n",
      "Requirement already satisfied: pandas in c:\\users\\gaganthakur\\appdata\\roaming\\python\\python312\\site-packages (2.2.2)\n",
      "Requirement already satisfied: duckdb in c:\\users\\gaganthakur\\appdata\\roaming\\python\\python312\\site-packages (1.2.0)\n",
      "Requirement already satisfied: pydantic in c:\\python312\\lib\\site-packages (2.10.5)\n",
      "Requirement already satisfied: dotenv in c:\\python312\\lib\\site-packages (0.9.9)\n",
      "Requirement already satisfied: anyio<5,>=3.5.0 in c:\\users\\gaganthakur\\appdata\\roaming\\python\\python312\\site-packages (from openai) (4.4.0)\n",
      "Requirement already satisfied: distro<2,>=1.7.0 in c:\\python312\\lib\\site-packages (from openai) (1.9.0)\n",
      "Requirement already satisfied: httpx<1,>=0.23.0 in c:\\users\\gaganthakur\\appdata\\roaming\\python\\python312\\site-packages (from openai) (0.27.2)\n",
      "Requirement already satisfied: jiter<1,>=0.4.0 in c:\\python312\\lib\\site-packages (from openai) (0.6.1)\n",
      "Requirement already satisfied: sniffio in c:\\users\\gaganthakur\\appdata\\roaming\\python\\python312\\site-packages (from openai) (1.3.1)\n",
      "Requirement already satisfied: tqdm>4 in c:\\python312\\lib\\site-packages (from openai) (4.66.5)\n",
      "Requirement already satisfied: typing-extensions<5,>=4.11 in c:\\users\\gaganthakur\\appdata\\roaming\\python\\python312\\site-packages (from openai) (4.12.2)\n",
      "Requirement already satisfied: numpy>=1.26.0 in c:\\users\\gaganthakur\\appdata\\roaming\\python\\python312\\site-packages (from pandas) (2.1.0)\n",
      "Requirement already satisfied: python-dateutil>=2.8.2 in c:\\users\\gaganthakur\\appdata\\roaming\\python\\python312\\site-packages (from pandas) (2.9.0.post0)\n",
      "Requirement already satisfied: pytz>=2020.1 in c:\\users\\gaganthakur\\appdata\\roaming\\python\\python312\\site-packages (from pandas) (2024.1)\n",
      "Requirement already satisfied: tzdata>=2022.7 in c:\\users\\gaganthakur\\appdata\\roaming\\python\\python312\\site-packages (from pandas) (2024.1)\n",
      "Requirement already satisfied: annotated-types>=0.6.0 in c:\\users\\gaganthakur\\appdata\\roaming\\python\\python312\\site-packages (from pydantic) (0.7.0)\n",
      "Requirement already satisfied: pydantic-core==2.27.2 in c:\\python312\\lib\\site-packages (from pydantic) (2.27.2)\n",
      "Requirement already satisfied: python-dotenv in c:\\python312\\lib\\site-packages (from dotenv) (1.0.1)\n",
      "Requirement already satisfied: idna>=2.8 in c:\\users\\gaganthakur\\appdata\\roaming\\python\\python312\\site-packages (from anyio<5,>=3.5.0->openai) (3.8)\n",
      "Requirement already satisfied: certifi in c:\\users\\gaganthakur\\appdata\\roaming\\python\\python312\\site-packages (from httpx<1,>=0.23.0->openai) (2024.7.4)\n",
      "Requirement already satisfied: httpcore==1.* in c:\\users\\gaganthakur\\appdata\\roaming\\python\\python312\\site-packages (from httpx<1,>=0.23.0->openai) (1.0.5)\n",
      "Requirement already satisfied: h11<0.15,>=0.13 in c:\\users\\gaganthakur\\appdata\\roaming\\python\\python312\\site-packages (from httpcore==1.*->httpx<1,>=0.23.0->openai) (0.14.0)\n",
      "Requirement already satisfied: six>=1.5 in c:\\users\\gaganthakur\\appdata\\roaming\\python\\python312\\site-packages (from python-dateutil>=2.8.2->pandas) (1.16.0)\n",
      "Requirement already satisfied: colorama in c:\\users\\gaganthakur\\appdata\\roaming\\python\\python312\\site-packages (from tqdm>4->openai) (0.4.6)\n",
      "Note: you may need to restart the kernel to use updated packages.\n"
     ]
    },
    {
     "name": "stderr",
     "output_type": "stream",
     "text": [
      "\n",
      "[notice] A new release of pip is available: 24.3.1 -> 25.0.1\n",
      "[notice] To update, run: python.exe -m pip install --upgrade pip\n"
     ]
    }
   ],
   "source": [
    "%pip install openai pandas duckdb pydantic dotenv"
   ]
  },
  {
   "cell_type": "code",
   "execution_count": 2,
   "id": "d160d249",
   "metadata": {},
   "outputs": [
    {
     "name": "stdout",
     "output_type": "stream",
     "text": [
      "Requirement already satisfied: openinference-instrumentation in c:\\python312\\lib\\site-packages (0.1.22)\n",
      "Requirement already satisfied: arize-phoenix-otel in c:\\python312\\lib\\site-packages (0.8.0)\n",
      "Requirement already satisfied: arize-phoenix in c:\\python312\\lib\\site-packages (8.3.0)\n",
      "Requirement already satisfied: httpx in c:\\users\\gaganthakur\\appdata\\roaming\\python\\python312\\site-packages (0.27.2)\n",
      "Requirement already satisfied: openinference-instrumentation-openai in c:\\python312\\lib\\site-packages (0.1.21)\n",
      "Requirement already satisfied: openinference-semantic-conventions>=0.1.6 in c:\\python312\\lib\\site-packages (from openinference-instrumentation) (0.1.14)\n",
      "Requirement already satisfied: opentelemetry-api in c:\\python312\\lib\\site-packages (from openinference-instrumentation) (1.30.0)\n",
      "Requirement already satisfied: opentelemetry-sdk in c:\\python312\\lib\\site-packages (from openinference-instrumentation) (1.30.0)\n",
      "Requirement already satisfied: opentelemetry-exporter-otlp in c:\\python312\\lib\\site-packages (from arize-phoenix-otel) (1.30.0)\n",
      "Requirement already satisfied: opentelemetry-proto>=1.12.0 in c:\\python312\\lib\\site-packages (from arize-phoenix-otel) (1.30.0)\n",
      "Requirement already satisfied: opentelemetry-semantic-conventions in c:\\python312\\lib\\site-packages (from arize-phoenix-otel) (0.51b0)\n",
      "Requirement already satisfied: typing-extensions<5,>=4.5 in c:\\users\\gaganthakur\\appdata\\roaming\\python\\python312\\site-packages (from arize-phoenix-otel) (4.12.2)\n",
      "Requirement already satisfied: aioitertools in c:\\python312\\lib\\site-packages (from arize-phoenix) (0.12.0)\n",
      "Requirement already satisfied: aiosqlite in c:\\python312\\lib\\site-packages (from arize-phoenix) (0.21.0)\n",
      "Requirement already satisfied: alembic<2,>=1.3.0 in c:\\python312\\lib\\site-packages (from arize-phoenix) (1.14.1)\n",
      "Requirement already satisfied: arize-phoenix-client in c:\\python312\\lib\\site-packages (from arize-phoenix) (1.0.2)\n",
      "Requirement already satisfied: arize-phoenix-evals>=0.13.1 in c:\\python312\\lib\\site-packages (from arize-phoenix) (0.20.3)\n",
      "Requirement already satisfied: authlib in c:\\python312\\lib\\site-packages (from arize-phoenix) (1.5.0)\n",
      "Requirement already satisfied: cachetools in c:\\users\\gaganthakur\\appdata\\roaming\\python\\python312\\site-packages (from arize-phoenix) (5.5.0)\n",
      "Requirement already satisfied: fastapi in c:\\python312\\lib\\site-packages (from arize-phoenix) (0.115.8)\n",
      "Requirement already satisfied: grpc-interceptor in c:\\python312\\lib\\site-packages (from arize-phoenix) (0.15.4)\n",
      "Requirement already satisfied: grpcio in c:\\python312\\lib\\site-packages (from arize-phoenix) (1.69.0)\n",
      "Requirement already satisfied: jinja2 in c:\\users\\gaganthakur\\appdata\\roaming\\python\\python312\\site-packages (from arize-phoenix) (3.1.4)\n",
      "Requirement already satisfied: numpy!=2.0.0 in c:\\users\\gaganthakur\\appdata\\roaming\\python\\python312\\site-packages (from arize-phoenix) (2.1.0)\n",
      "Requirement already satisfied: pandas>=1.0 in c:\\users\\gaganthakur\\appdata\\roaming\\python\\python312\\site-packages (from arize-phoenix) (2.2.2)\n",
      "Requirement already satisfied: protobuf<6.0,>=3.20.2 in c:\\users\\gaganthakur\\appdata\\roaming\\python\\python312\\site-packages (from arize-phoenix) (5.28.0)\n",
      "Requirement already satisfied: psutil in c:\\users\\gaganthakur\\appdata\\roaming\\python\\python312\\site-packages (from arize-phoenix) (6.0.0)\n",
      "Requirement already satisfied: pyarrow in c:\\users\\gaganthakur\\appdata\\roaming\\python\\python312\\site-packages (from arize-phoenix) (17.0.0)\n",
      "Requirement already satisfied: pydantic>=2.1.0 in c:\\python312\\lib\\site-packages (from arize-phoenix) (2.10.5)\n",
      "Requirement already satisfied: python-multipart in c:\\python312\\lib\\site-packages (from arize-phoenix) (0.0.20)\n",
      "Requirement already satisfied: scikit-learn in c:\\python312\\lib\\site-packages (from arize-phoenix) (1.6.1)\n",
      "Requirement already satisfied: scipy in c:\\python312\\lib\\site-packages (from arize-phoenix) (1.15.2)\n",
      "Requirement already satisfied: sqlalchemy<3,>=2.0.4 in c:\\python312\\lib\\site-packages (from sqlalchemy[asyncio]<3,>=2.0.4->arize-phoenix) (2.0.37)\n",
      "Requirement already satisfied: sqlean-py>=3.45.1 in c:\\python312\\lib\\site-packages (from arize-phoenix) (3.47.0)\n",
      "Requirement already satisfied: starlette in c:\\python312\\lib\\site-packages (from arize-phoenix) (0.45.3)\n",
      "Requirement already satisfied: strawberry-graphql==0.253.1 in c:\\python312\\lib\\site-packages (from arize-phoenix) (0.253.1)\n",
      "Requirement already satisfied: tqdm in c:\\python312\\lib\\site-packages (from arize-phoenix) (4.66.5)\n",
      "Requirement already satisfied: uvicorn in c:\\python312\\lib\\site-packages (from arize-phoenix) (0.34.0)\n",
      "Requirement already satisfied: websockets in c:\\users\\gaganthakur\\appdata\\roaming\\python\\python312\\site-packages (from arize-phoenix) (10.4)\n",
      "Requirement already satisfied: wrapt>=1.17.2 in c:\\python312\\lib\\site-packages (from arize-phoenix) (1.17.2)\n",
      "Requirement already satisfied: graphql-core<3.4.0,>=3.2.0 in c:\\python312\\lib\\site-packages (from strawberry-graphql==0.253.1->arize-phoenix) (3.2.6)\n",
      "Requirement already satisfied: python-dateutil<3.0.0,>=2.7.0 in c:\\users\\gaganthakur\\appdata\\roaming\\python\\python312\\site-packages (from strawberry-graphql==0.253.1->arize-phoenix) (2.9.0.post0)\n",
      "Requirement already satisfied: anyio in c:\\users\\gaganthakur\\appdata\\roaming\\python\\python312\\site-packages (from httpx) (4.4.0)\n",
      "Requirement already satisfied: certifi in c:\\users\\gaganthakur\\appdata\\roaming\\python\\python312\\site-packages (from httpx) (2024.7.4)\n",
      "Requirement already satisfied: httpcore==1.* in c:\\users\\gaganthakur\\appdata\\roaming\\python\\python312\\site-packages (from httpx) (1.0.5)\n",
      "Requirement already satisfied: idna in c:\\users\\gaganthakur\\appdata\\roaming\\python\\python312\\site-packages (from httpx) (3.8)\n",
      "Requirement already satisfied: sniffio in c:\\users\\gaganthakur\\appdata\\roaming\\python\\python312\\site-packages (from httpx) (1.3.1)\n",
      "Requirement already satisfied: h11<0.15,>=0.13 in c:\\users\\gaganthakur\\appdata\\roaming\\python\\python312\\site-packages (from httpcore==1.*->httpx) (0.14.0)\n",
      "Requirement already satisfied: opentelemetry-instrumentation in c:\\python312\\lib\\site-packages (from openinference-instrumentation-openai) (0.51b0)\n",
      "Requirement already satisfied: Mako in c:\\python312\\lib\\site-packages (from alembic<2,>=1.3.0->arize-phoenix) (1.3.9)\n",
      "Requirement already satisfied: pytz>=2020.1 in c:\\users\\gaganthakur\\appdata\\roaming\\python\\python312\\site-packages (from pandas>=1.0->arize-phoenix) (2024.1)\n",
      "Requirement already satisfied: tzdata>=2022.7 in c:\\users\\gaganthakur\\appdata\\roaming\\python\\python312\\site-packages (from pandas>=1.0->arize-phoenix) (2024.1)\n",
      "Requirement already satisfied: annotated-types>=0.6.0 in c:\\users\\gaganthakur\\appdata\\roaming\\python\\python312\\site-packages (from pydantic>=2.1.0->arize-phoenix) (0.7.0)\n",
      "Requirement already satisfied: pydantic-core==2.27.2 in c:\\python312\\lib\\site-packages (from pydantic>=2.1.0->arize-phoenix) (2.27.2)\n",
      "Requirement already satisfied: greenlet!=0.4.17 in c:\\python312\\lib\\site-packages (from sqlalchemy<3,>=2.0.4->sqlalchemy[asyncio]<3,>=2.0.4->arize-phoenix) (3.1.1)\n",
      "Requirement already satisfied: cryptography in c:\\python312\\lib\\site-packages (from authlib->arize-phoenix) (44.0.0)\n",
      "Requirement already satisfied: MarkupSafe>=2.0 in c:\\users\\gaganthakur\\appdata\\roaming\\python\\python312\\site-packages (from jinja2->arize-phoenix) (2.1.5)\n",
      "Requirement already satisfied: deprecated>=1.2.6 in c:\\python312\\lib\\site-packages (from opentelemetry-api->openinference-instrumentation) (1.2.18)\n",
      "Requirement already satisfied: importlib-metadata<=8.5.0,>=6.0 in c:\\users\\gaganthakur\\appdata\\roaming\\python\\python312\\site-packages (from opentelemetry-api->openinference-instrumentation) (8.5.0)\n",
      "Requirement already satisfied: opentelemetry-exporter-otlp-proto-grpc==1.30.0 in c:\\python312\\lib\\site-packages (from opentelemetry-exporter-otlp->arize-phoenix-otel) (1.30.0)\n",
      "Requirement already satisfied: opentelemetry-exporter-otlp-proto-http==1.30.0 in c:\\python312\\lib\\site-packages (from opentelemetry-exporter-otlp->arize-phoenix-otel) (1.30.0)\n",
      "Requirement already satisfied: googleapis-common-protos~=1.52 in c:\\python312\\lib\\site-packages (from opentelemetry-exporter-otlp-proto-grpc==1.30.0->opentelemetry-exporter-otlp->arize-phoenix-otel) (1.66.0)\n",
      "Requirement already satisfied: opentelemetry-exporter-otlp-proto-common==1.30.0 in c:\\python312\\lib\\site-packages (from opentelemetry-exporter-otlp-proto-grpc==1.30.0->opentelemetry-exporter-otlp->arize-phoenix-otel) (1.30.0)\n",
      "Requirement already satisfied: requests~=2.7 in c:\\users\\gaganthakur\\appdata\\roaming\\python\\python312\\site-packages (from opentelemetry-exporter-otlp-proto-http==1.30.0->opentelemetry-exporter-otlp->arize-phoenix-otel) (2.32.3)\n",
      "Requirement already satisfied: packaging>=18.0 in c:\\users\\gaganthakur\\appdata\\roaming\\python\\python312\\site-packages (from opentelemetry-instrumentation->openinference-instrumentation-openai) (24.1)\n",
      "Requirement already satisfied: joblib>=1.2.0 in c:\\python312\\lib\\site-packages (from scikit-learn->arize-phoenix) (1.4.2)\n",
      "Requirement already satisfied: threadpoolctl>=3.1.0 in c:\\python312\\lib\\site-packages (from scikit-learn->arize-phoenix) (3.5.0)\n",
      "Requirement already satisfied: colorama in c:\\users\\gaganthakur\\appdata\\roaming\\python\\python312\\site-packages (from tqdm->arize-phoenix) (0.4.6)\n",
      "Requirement already satisfied: click>=7.0 in c:\\users\\gaganthakur\\appdata\\roaming\\python\\python312\\site-packages (from uvicorn->arize-phoenix) (8.1.7)\n",
      "Requirement already satisfied: zipp>=3.20 in c:\\users\\gaganthakur\\appdata\\roaming\\python\\python312\\site-packages (from importlib-metadata<=8.5.0,>=6.0->opentelemetry-api->openinference-instrumentation) (3.20.2)\n",
      "Requirement already satisfied: six>=1.5 in c:\\users\\gaganthakur\\appdata\\roaming\\python\\python312\\site-packages (from python-dateutil<3.0.0,>=2.7.0->strawberry-graphql==0.253.1->arize-phoenix) (1.16.0)\n",
      "Requirement already satisfied: cffi>=1.12 in c:\\users\\gaganthakur\\appdata\\roaming\\python\\python312\\site-packages (from cryptography->authlib->arize-phoenix) (1.17.1)\n",
      "Requirement already satisfied: pycparser in c:\\users\\gaganthakur\\appdata\\roaming\\python\\python312\\site-packages (from cffi>=1.12->cryptography->authlib->arize-phoenix) (2.22)\n",
      "Requirement already satisfied: charset-normalizer<4,>=2 in c:\\python312\\lib\\site-packages (from requests~=2.7->opentelemetry-exporter-otlp-proto-http==1.30.0->opentelemetry-exporter-otlp->arize-phoenix-otel) (3.4.1)\n",
      "Requirement already satisfied: urllib3<3,>=1.21.1 in c:\\users\\gaganthakur\\appdata\\roaming\\python\\python312\\site-packages (from requests~=2.7->opentelemetry-exporter-otlp-proto-http==1.30.0->opentelemetry-exporter-otlp->arize-phoenix-otel) (1.26.20)\n",
      "Note: you may need to restart the kernel to use updated packages.\n"
     ]
    },
    {
     "name": "stderr",
     "output_type": "stream",
     "text": [
      "\n",
      "[notice] A new release of pip is available: 24.3.1 -> 25.0.1\n",
      "[notice] To update, run: python.exe -m pip install --upgrade pip\n"
     ]
    }
   ],
   "source": [
    "%pip install openinference-instrumentation arize-phoenix-otel arize-phoenix httpx openinference-instrumentation-openai"
   ]
  },
  {
   "cell_type": "markdown",
   "id": "fcdb48df-fa3d-41d5-aae0-93e7251a8a6a",
   "metadata": {},
   "source": [
    "# Building your Agent "
   ]
  },
  {
   "cell_type": "markdown",
   "id": "f6bf3f5a-9dde-4171-a2d3-bb6b7774a951",
   "metadata": {},
   "source": [
    "The agent is comprised of a router using OpenAI function calling, and a set of three tools: a database lookup tool, a data analysis tool, and a code generator to create graphs.\n",
    "\n",
    "<img src=\"images/agent.png\" width=\"500\"/>\n",
    "\n",
    "\n",
    "The agent can lookup information from a local file, perform analysis on that information, and graph results. The example local file is a log of transactions at a local store. The agent can help the store owners understand trends and anomalies in their sales data."
   ]
  },
  {
   "cell_type": "code",
   "execution_count": 3,
   "id": "338ae67b-9827-4c2e-930a-c0901c93945d",
   "metadata": {
    "tags": []
   },
   "outputs": [],
   "source": [
    "from openai import OpenAI\n",
    "import pandas as pd\n",
    "import json\n",
    "import duckdb\n",
    "from pydantic import BaseModel, Field\n",
    "from IPython.display import Markdown\n",
    "\n",
    "from helper import get_openai_api_key, get_phoenix_endpoint"
   ]
  },
  {
   "cell_type": "code",
   "execution_count": 4,
   "id": "12a37637",
   "metadata": {},
   "outputs": [],
   "source": [
    "from opentelemetry.trace import Status, StatusCode\n",
    "import phoenix as px\n",
    "from openinference.instrumentation.openai import OpenAIInstrumentor\n",
    "from openinference.semconv.trace import SpanAttributes\n",
    "from openinference.instrumentation import TracerProvider\n",
    "from phoenix.otel import register"
   ]
  },
  {
   "cell_type": "markdown",
   "id": "03d9abe4-f216-48b6-9c87-fa6ffd25360a",
   "metadata": {
    "tags": []
   },
   "source": [
    "## Initializing the OpenAI client"
   ]
  },
  {
   "cell_type": "code",
   "execution_count": 5,
   "id": "2f87a954-ab7e-4875-b863-7b6209147027",
   "metadata": {
    "tags": []
   },
   "outputs": [],
   "source": [
    "# initialize the OpenAI client\n",
    "openai_api_key = get_openai_api_key()\n",
    "client = OpenAI(api_key=openai_api_key)\n",
    "\n",
    "MODEL = \"gpt-4o-mini\""
   ]
  },
  {
   "cell_type": "markdown",
   "id": "597ecc86",
   "metadata": {},
   "source": [
    "We are running the Phoenix server in local using below command\n",
    "phoenix serve"
   ]
  },
  {
   "cell_type": "code",
   "execution_count": 6,
   "id": "81a42b73",
   "metadata": {},
   "outputs": [],
   "source": [
    "PROJECT_NAME = \"tracing-agent\""
   ]
  },
  {
   "cell_type": "code",
   "execution_count": 7,
   "id": "2e5028cf",
   "metadata": {},
   "outputs": [
    {
     "name": "stdout",
     "output_type": "stream",
     "text": [
      "OpenTelemetry Tracing Details\n",
      "|  Phoenix Project: tracing-agent\n",
      "|  Span Processor: SimpleSpanProcessor\n",
      "|  Collector Endpoint: http://localhost:6006/v1/traces\n",
      "|  Transport: HTTP + protobuf\n",
      "|  Transport Headers: {}\n",
      "|  \n",
      "|  Using a default SpanProcessor. `add_span_processor` will overwrite this default.\n",
      "|  \n",
      "|  `register` has set this TracerProvider as the global OpenTelemetry default.\n",
      "|  To disable this behavior, call `register` with `set_global_tracer_provider=False`.\n",
      "\n"
     ]
    }
   ],
   "source": [
    "tracer_provider = register(\n",
    "    project_name=PROJECT_NAME,\n",
    "    endpoint= get_phoenix_endpoint() + \"v1/traces\"\n",
    ")"
   ]
  },
  {
   "cell_type": "code",
   "execution_count": 8,
   "id": "232457f9",
   "metadata": {},
   "outputs": [],
   "source": [
    "OpenAIInstrumentor().instrument(tracer_provider = tracer_provider)"
   ]
  },
  {
   "cell_type": "code",
   "execution_count": 9,
   "id": "b7ca5f63",
   "metadata": {},
   "outputs": [],
   "source": [
    "tracer = tracer_provider.get_tracer(__name__)"
   ]
  },
  {
   "cell_type": "markdown",
   "id": "835b6ea8-065a-48b3-8073-0724a500c367",
   "metadata": {},
   "source": [
    "## Defining the tools"
   ]
  },
  {
   "cell_type": "markdown",
   "id": "7051016e-ab69-483a-ac2f-9826a30fccff",
   "metadata": {},
   "source": [
    "Let's start by creating the three tools the agent will be able to use."
   ]
  },
  {
   "cell_type": "code",
   "execution_count": 10,
   "id": "5a18d076-c0cf-4de1-848e-df0b5c0d64e9",
   "metadata": {},
   "outputs": [],
   "source": [
    "# define the path to the transactional data\n",
    "TRANSACTION_DATA_FILE_PATH = 'data/Store_Sales_Price_Elasticity_Promotions_Data.parquet'"
   ]
  },
  {
   "cell_type": "markdown",
   "id": "f31fec27-5d55-49c7-9b03-829a2d9e09ac",
   "metadata": {},
   "source": [
    "This database lookup tool works using three steps. \n",
    "\n",
    "<img src=\"images/tool1.png\" width=\"500\"/>\n",
    "\n",
    "1. First, it creates the SQL table from a local file, if not already done.\n",
    "2. Second, it translates the original prompt into an sql query (using an LLM call).\n",
    "3. Finally, it runs that query against the database."
   ]
  },
  {
   "cell_type": "code",
   "execution_count": 11,
   "id": "34bbefbc-a5a0-4d54-b5d1-47210eb33030",
   "metadata": {
    "tags": []
   },
   "outputs": [],
   "source": [
    "# prompt template for step 2 of tool 1\n",
    "SQL_GENERATION_PROMPT = \"\"\"\n",
    "Generate an SQL query based on a prompt. Do not reply with anything besides the SQL query.\n",
    "The prompt is: {prompt}\n",
    "\n",
    "The available columns are: {columns}\n",
    "The table name is: {table_name}\n",
    "\"\"\""
   ]
  },
  {
   "cell_type": "code",
   "execution_count": 12,
   "id": "4af7ff01-385f-40b5-a3e3-93c9ddabe73e",
   "metadata": {
    "tags": []
   },
   "outputs": [],
   "source": [
    "# code for step 2 of tool 1\n",
    "def generate_sql_query(prompt: str, columns: list, table_name: str) -> str:\n",
    "    \"\"\"Generate an SQL query based on a prompt\"\"\"\n",
    "    formatted_prompt = SQL_GENERATION_PROMPT.format(prompt=prompt, \n",
    "                                                    columns=columns, \n",
    "                                                    table_name=table_name)\n",
    "\n",
    "    response = client.chat.completions.create(\n",
    "        model=MODEL,\n",
    "        messages=[{\"role\": \"user\", \"content\": formatted_prompt}],\n",
    "    )\n",
    "\n",
    "    return response.choices[0].message.content"
   ]
  },
  {
   "cell_type": "code",
   "execution_count": null,
   "id": "5ec72e20-9e92-4664-b209-4c8589d0c73f",
   "metadata": {
    "tags": []
   },
   "outputs": [],
   "source": [
    "# code for tool 1\n",
    "@tracer.tool()\n",
    "def lookup_sales_data(prompt: str) -> str:\n",
    "    \"\"\"Implementation of sales data lookup from parquet file using SQL\"\"\"\n",
    "    try:\n",
    "\n",
    "        # define the table name\n",
    "        table_name = \"sales\"\n",
    "        \n",
    "        # step 1: read the parquet file into a DuckDB table\n",
    "        df = pd.read_parquet(TRANSACTION_DATA_FILE_PATH)\n",
    "        duckdb.sql(f\"CREATE TABLE IF NOT EXISTS {table_name} AS SELECT * FROM df\")\n",
    "\n",
    "        # step 2: generate the SQL code\n",
    "        sql_query = generate_sql_query(prompt, df.columns, table_name)\n",
    "        # clean the response to make sure it only includes the SQL code\n",
    "        sql_query = sql_query.strip()\n",
    "        sql_query = sql_query.replace(\"```sql\", \"\").replace(\"```\", \"\")\n",
    "\n",
    "        with tracer.start_as_current_span(\n",
    "            \"execute_sql_query\", \n",
    "            openinference_span_kind=\"chain\"\n",
    "        ) as span:\n",
    "            span.set_input(sql_query)\n",
    "            # step 3: execute the SQL query\n",
    "            result = duckdb.sql(sql_query).df()\n",
    "            span.set_output(value=str(result))\n",
    "            span.set_status(StatusCode.OK)\n",
    "        \n",
    "        return result.to_string()\n",
    "    except Exception as e:\n",
    "        return f\"Error accessing data: {str(e)}\""
   ]
  },
  {
   "cell_type": "markdown",
   "id": "7608fff0-2899-4574-b9af-a07dae7069cc",
   "metadata": {},
   "source": [
    "Great! Now let's test the first tool and make sure it worked correctly."
   ]
  },
  {
   "cell_type": "code",
   "execution_count": 14,
   "id": "2522c97b-9c90-4e36-a647-25bae44b6ca9",
   "metadata": {
    "tags": []
   },
   "outputs": [
    {
     "name": "stdout",
     "output_type": "stream",
     "text": [
      "    Store_Number  SKU_Coded  Product_Class_Code  Sold_Date  Qty_Sold  Total_Sale_Value  On_Promo\n",
      "0           1320    6173050               22875 2021-11-01         1          4.990000         0\n",
      "1           1320    6174250               22875 2021-11-01         1          0.890000         0\n",
      "2           1320    6176200               22975 2021-11-01         2         99.980003         0\n",
      "3           1320    6176800               22800 2021-11-01         1         14.970000         0\n",
      "4           1320    6177250               22975 2021-11-01         1          6.890000         0\n",
      "5           1320    6177300               22800 2021-11-01         1          9.990000         0\n",
      "6           1320    6177350               22800 2021-11-01         2         16.980000         0\n",
      "7           1320    6177700               22875 2021-11-01         1          3.190000         0\n",
      "8           1320    6178000               22875 2021-11-01         2          6.380000         0\n",
      "9           1320    6178250               22800 2021-11-01         1         16.590000         0\n",
      "10          1320    6179250               24400 2021-11-01         1         14.990000         0\n",
      "11          1320    6179300               22800 2021-11-01         2          9.980000         0\n",
      "12          1320    6179400               24400 2021-11-01         2         29.980000         0\n",
      "13          1320    6179450               24400 2021-11-01         1         14.990000         0\n",
      "14          1320    6179500               24400 2021-11-01         1         14.990000         0\n",
      "15          1320    6179750               22800 2021-11-01         2         39.980000         0\n",
      "16          1320    6180550               22975 2021-11-01         1         15.990000         0\n",
      "17          1320    6182050               22975 2021-11-01         1          7.990000         0\n",
      "18          1320    6183750               22850 2021-11-01         3         38.970001         0\n",
      "19          1320    6184100               22975 2021-11-01         3         59.970001         0\n",
      "20          1320    6188550               22950 2021-11-01         2         15.980000         0\n",
      "21          1320    6190050               24425 2021-11-01         5         19.950001         0\n",
      "22          1320    6190150               24425 2021-11-01         1          8.990000         0\n",
      "23          1320    6190200               24425 2021-11-01         1          8.990000         0\n",
      "24          1320    6190250               24425 2021-11-01         1          7.990000         0\n",
      "25          1320    6190350               22950 2021-11-01         1          6.990000         0\n",
      "26          1320    6190400               22950 2021-11-01         1          6.990000         0\n",
      "27          1320    6193750               22875 2021-11-01         1          6.990000         0\n",
      "28          1320    6195350               24375 2021-11-01         1         16.990000         0\n",
      "29          1320    6195800               22850 2021-11-01         3         25.719999         1\n"
     ]
    }
   ],
   "source": [
    "example_data = lookup_sales_data(\"Show me all the sales for store 1320 on November 1st, 2021\")\n",
    "print(example_data)"
   ]
  },
  {
   "cell_type": "markdown",
   "id": "e27d0165-910a-41f4-9e03-00bef058129d",
   "metadata": {},
   "source": [
    "### Tool 2: Data Analysis"
   ]
  },
  {
   "cell_type": "markdown",
   "id": "d651c17e-35e9-4f78-97f1-d4c800010e74",
   "metadata": {},
   "source": [
    "The second tool can analyze the returned data and display conclusions to users.\n",
    "\n",
    "<img src=\"images/tool2.png\" width=\"300\"/>"
   ]
  },
  {
   "cell_type": "code",
   "execution_count": 15,
   "id": "92988b00-8808-48b2-876f-d7173f129c4e",
   "metadata": {
    "tags": []
   },
   "outputs": [],
   "source": [
    "# Construct prompt based on analysis type and data subset\n",
    "DATA_ANALYSIS_PROMPT = \"\"\"\n",
    "Analyze the following data: {data}\n",
    "Your job is to answer the following question: {prompt}\n",
    "\"\"\""
   ]
  },
  {
   "cell_type": "code",
   "execution_count": null,
   "id": "642b3530-2fe1-4311-9bed-b980b68d456e",
   "metadata": {
    "tags": []
   },
   "outputs": [],
   "source": [
    "# code for tool 2\n",
    "@tracer.tool()\n",
    "def analyze_sales_data(prompt: str, data: str) -> str:\n",
    "    \"\"\"Implementation of AI-powered sales data analysis\"\"\"\n",
    "    formatted_prompt = DATA_ANALYSIS_PROMPT.format(data=data, prompt=prompt)\n",
    "\n",
    "    response = client.chat.completions.create(\n",
    "        model=MODEL,\n",
    "        messages=[{\"role\": \"user\", \"content\": formatted_prompt}],\n",
    "    )\n",
    "    \n",
    "    analysis = response.choices[0].message.content\n",
    "    return analysis if analysis else \"No analysis could be generated\""
   ]
  },
  {
   "cell_type": "markdown",
   "id": "2fc227e5-257c-4459-9c3f-1a9b3527a839",
   "metadata": {},
   "source": [
    "This tool is relatively simple, but let's still test it out to be sure things are working correctly."
   ]
  },
  {
   "cell_type": "code",
   "execution_count": 17,
   "id": "07b4dc6b-11a2-43db-8c29-7f11493d15cf",
   "metadata": {
    "tags": []
   },
   "outputs": [
    {
     "name": "stdout",
     "output_type": "stream",
     "text": [
      "Analyzing the provided data reveals several trends and insights regarding sales, product classes, and promotional activities at Store Number 1320 on November 1, 2021.\n",
      "\n",
      "### Summary of the Data:\n",
      "\n",
      "1. **Sales Volume and Variety**:\n",
      "   - The data consists of 30 transactions with varying quantities sold (Qty_Sold) and total sale values (Total_Sale_Value).\n",
      "   - Different products represented by SKU_Coded and Product_Class_Code suggest a diverse inventory.\n",
      "\n",
      "2. **Sales Distribution**:\n",
      "   - Most products were sold in small quantities (1-3), with only a few transactions involving larger quantities (e.g., 5 units in the sale with SKU_Coded 6190050).\n",
      "\n",
      "3. **Pricing Trends**:\n",
      "   - Total Sale Values show a wide range, with the highest transaction value being $99.98 for SKU 6176200 and others ranging down to very low prices (e.g., $0.89 for SKU 6174250).\n",
      "   - This indicates that the store carries both high-value items and budget-friendly offerings.\n",
      "\n",
      "4. **Promotional Activity**:\n",
      "   - Most items (29 out of 30) are marked as `On_Promo = 0`, indicating they were not part of a promotion on that date. Only one SKU (6195800) is on promotion.\n",
      "   - It suggests that the store may have a strategy of utilizing promotions minimally or selectively.\n",
      "\n",
      "5. **Product Classes**:\n",
      "   - The data contains multiple product classes (e.g., 22875, 22975, 22800, etc.), which may indicate different categories of products.\n",
      "   - No products in this dataset fall under On_Promo, except for one, which could imply a strategic focus or a specific promotion that day.\n",
      "\n",
      "### Notable Observations:\n",
      "\n",
      "- **Product Demand**:\n",
      "  - Certain SKUs, such as SKU 6176200, generated significant sales value, indicating they are high-demand or high-value items.\n",
      "  \n",
      "- **Customer Behavior**:\n",
      "  - The average quantity sold per transaction tends toward lower numbers; this could reflect customer purchasing habits where customers buy items as needed rather than bulk buying.\n",
      "\n",
      "- **Promotional Impact**:\n",
      "  - There's limited promotion on the recorded date, which may suggest that sales tactics are being tested or that there could be a focus on non-promotional sales strategies.\n",
      "\n",
      "### Conclusion:\n",
      "\n",
      "The data indicates that Store Number 1320 offers a diverse range of products with varying price points, but the sales are predominantly at regular prices with minimal promotional activity. It might be beneficial for the store to explore promotional strategies more actively to potentially increase sales volume and customer engagement. Further analysis could involve looking at historical sales data to understand seasonal trends or the impact of promotions over time.\n"
     ]
    }
   ],
   "source": [
    "print(analyze_sales_data(prompt=\"what trends do you see in this data\", \n",
    "                         data=example_data))"
   ]
  },
  {
   "cell_type": "markdown",
   "id": "a2d6e909-9726-4845-9122-1b8915852313",
   "metadata": {},
   "source": [
    "### Tool 3: Data Visualization"
   ]
  },
  {
   "cell_type": "markdown",
   "id": "cbe5db09-d115-418a-acc0-983214d110cf",
   "metadata": {
    "tags": []
   },
   "source": [
    "The third tool generates python code to create the requested graphs from the returned data of the first tool. It consists of two steps:\n",
    "    \n",
    "<img src=\"images/tool3.png\" width=\"500\"/>\n",
    "1. First, it creates the chart configuration: chart type, title, data, lables for x-axis and y-axis (using an LLM call).\n",
    "\n",
    "2. Second, it generates the python code based on the chart configuration of the first step (using an LLM call)."
   ]
  },
  {
   "cell_type": "code",
   "execution_count": 18,
   "id": "8e57a552-8d40-40be-bd3e-cb9443c4080b",
   "metadata": {
    "tags": []
   },
   "outputs": [],
   "source": [
    "# prompt template for step 1 of tool 3\n",
    "CHART_CONFIGURATION_PROMPT = \"\"\"\n",
    "Generate a chart configuration based on this data: {data}\n",
    "The goal is to show: {visualization_goal}\n",
    "\"\"\""
   ]
  },
  {
   "cell_type": "markdown",
   "id": "614fdbc1-d9da-4e58-bae0-bca66d02d798",
   "metadata": {},
   "source": [
    "# prompt template for step 1 of tool 3\n",
    "CHART_CONFIGURATION_PROMPT = \"\"\"\n",
    "Generate a chart configuration based on this data: {data}\n",
    "The goal is to show: {visualization_goal}\n",
    "\"\"\""
   ]
  },
  {
   "cell_type": "code",
   "execution_count": 19,
   "id": "318b5fba-1eca-4d8b-a642-5878bccf09a2",
   "metadata": {
    "tags": []
   },
   "outputs": [],
   "source": [
    "# class defining the response format of step 1 of tool 3\n",
    "class VisualizationConfig(BaseModel):\n",
    "    chart_type: str = Field(..., description=\"Type of chart to generate\")\n",
    "    x_axis: str = Field(..., description=\"Name of the x-axis column\")\n",
    "    y_axis: str = Field(..., description=\"Name of the y-axis column\")\n",
    "    title: str = Field(..., description=\"Title of the chart\")"
   ]
  },
  {
   "cell_type": "code",
   "execution_count": null,
   "id": "c999e7a9-6d38-4487-ab74-bf2597afa95f",
   "metadata": {
    "tags": []
   },
   "outputs": [],
   "source": [
    "# code for step 1 of tool 3\n",
    "@tracer.chain()\n",
    "def extract_chart_config(data: str, visualization_goal: str) -> dict:\n",
    "    \"\"\"Generate chart visualization configuration\n",
    "    \n",
    "    Args:\n",
    "        data: String containing the data to visualize\n",
    "        visualization_goal: Description of what the visualization should show\n",
    "        \n",
    "    Returns:\n",
    "        Dictionary containing line chart configuration\n",
    "    \"\"\"\n",
    "    formatted_prompt = CHART_CONFIGURATION_PROMPT.format(data=data,\n",
    "                                                         visualization_goal=visualization_goal)\n",
    "    \n",
    "    response = client.beta.chat.completions.parse(\n",
    "        model=MODEL,\n",
    "        messages=[{\"role\": \"user\", \"content\": formatted_prompt}],\n",
    "        response_format=VisualizationConfig,\n",
    "    )\n",
    "    \n",
    "    try:\n",
    "        # Extract axis and title info from response\n",
    "        content = response.choices[0].message.content\n",
    "        \n",
    "        # Return structured chart config\n",
    "        return {\n",
    "            \"chart_type\": content.chart_type,\n",
    "            \"x_axis\": content.x_axis,\n",
    "            \"y_axis\": content.y_axis,\n",
    "            \"title\": content.title,\n",
    "            \"data\": data\n",
    "        }\n",
    "    except Exception:\n",
    "        return {\n",
    "            \"chart_type\": \"line\", \n",
    "            \"x_axis\": \"date\",\n",
    "            \"y_axis\": \"value\",\n",
    "            \"title\": visualization_goal,\n",
    "            \"data\": data\n",
    "        }"
   ]
  },
  {
   "cell_type": "code",
   "execution_count": 21,
   "id": "6d58da8d-006a-47f0-929c-db57900a0345",
   "metadata": {
    "tags": []
   },
   "outputs": [],
   "source": [
    "# prompt template for step 2 of tool 3\n",
    "CREATE_CHART_PROMPT = \"\"\"\n",
    "Write python code to create a chart based on the following configuration.\n",
    "Only return the code, no other text.\n",
    "config: {config}\n",
    "\"\"\""
   ]
  },
  {
   "cell_type": "code",
   "execution_count": null,
   "id": "62b63105-849e-4a97-bbf1-981c6e128fcd",
   "metadata": {
    "tags": []
   },
   "outputs": [],
   "source": [
    "# code for step 2 of tool 3\n",
    "@tracer.chain()\n",
    "def create_chart(config: dict) -> str:\n",
    "    \"\"\"Create a chart based on the configuration\"\"\"\n",
    "    formatted_prompt = CREATE_CHART_PROMPT.format(config=config)\n",
    "    \n",
    "    response = client.chat.completions.create(\n",
    "        model=MODEL,\n",
    "        messages=[{\"role\": \"user\", \"content\": formatted_prompt}],\n",
    "    )\n",
    "    \n",
    "    code = response.choices[0].message.content\n",
    "    code = code.replace(\"```python\", \"\").replace(\"```\", \"\")\n",
    "    code = code.strip()\n",
    "    \n",
    "    return code"
   ]
  },
  {
   "cell_type": "code",
   "execution_count": null,
   "id": "65b14d69-3b2e-40ff-8e9a-07401530aa1b",
   "metadata": {
    "tags": []
   },
   "outputs": [],
   "source": [
    "# code for tool 3\n",
    "@tracer.tool()\n",
    "def generate_visualization(data: str, visualization_goal: str) -> str:\n",
    "    \"\"\"Generate a visualization based on the data and goal\"\"\"\n",
    "    config = extract_chart_config(data, visualization_goal)\n",
    "    code = create_chart(config)\n",
    "    return code"
   ]
  },
  {
   "cell_type": "markdown",
   "id": "21483c7f-8ca8-4bde-85ce-a815aa332ce4",
   "metadata": {},
   "source": [
    "Great, now let's try the third tool out:"
   ]
  },
  {
   "cell_type": "code",
   "execution_count": 24,
   "id": "c62cd115-a2e6-4b37-82d2-0108f62c6d56",
   "metadata": {
    "tags": []
   },
   "outputs": [
    {
     "name": "stdout",
     "output_type": "stream",
     "text": [
      "import pandas as pd\n",
      "import matplotlib.pyplot as plt\n",
      "from io import StringIO\n",
      "\n",
      "data = \"\"\"Store_Number,SKU_Coded,Product_Class_Code,Sold_Date,Qty_Sold,Total_Sale_Value,On_Promo\n",
      "1320,6173050,22875,2021-11-01,1,4.99,0\n",
      "1320,6174250,22875,2021-11-01,1,0.89,0\n",
      "1320,6176200,22975,2021-11-01,2,99.98,0\n",
      "1320,6176800,22800,2021-11-01,1,14.97,0\n",
      "1320,6177250,22975,2021-11-01,1,6.89,0\n",
      "1320,6177300,22800,2021-11-01,1,9.99,0\n",
      "1320,6177350,22800,2021-11-01,2,16.98,0\n",
      "1320,6177700,22875,2021-11-01,1,3.19,0\n",
      "1320,6178000,22875,2021-11-01,2,6.38,0\n",
      "1320,6178250,22800,2021-11-01,1,16.59,0\n",
      "1320,6179250,24400,2021-11-01,1,14.99,0\n",
      "1320,6179300,22800,2021-11-01,2,9.98,0\n",
      "1320,6179400,24400,2021-11-01,2,29.98,0\n",
      "1320,6179450,24400,2021-11-01,1,14.99,0\n",
      "1320,6179500,24400,2021-11-01,1,14.99,0\n",
      "1320,6179750,22800,2021-11-01,2,39.98,0\n",
      "1320,6180550,22975,2021-11-01,1,15.99,0\n",
      "1320,6182050,22975,2021-11-01,1,7.99,0\n",
      "1320,6183750,22850,2021-11-01,3,38.97,0\n",
      "1320,6184100,22975,2021-11-01,3,59.97,0\n",
      "1320,6188550,22950,2021-11-01,2,15.98,0\n",
      "1320,6190050,24425,2021-11-01,5,19.95,0\n",
      "1320,6190150,24425,2021-11-01,1,8.99,0\n",
      "1320,6190200,24425,2021-11-01,1,8.99,0\n",
      "1320,6190250,24425,2021-11-01,1,7.99,0\n",
      "1320,6190350,22950,2021-11-01,1,6.99,0\n",
      "1320,6190400,22950,2021-11-01,1,6.99,0\n",
      "1320,6193750,22875,2021-11-01,1,6.99,0\n",
      "1320,6195350,24375,2021-11-01,1,16.99,0\n",
      "1320,6195800,22850,2021-11-01,3,25.72,1\n",
      "\"\"\"\n",
      "\n",
      "df = pd.read_csv(StringIO(data), parse_dates=['Sold_Date'])\n",
      "df_grouped = df.groupby('Sold_Date').agg({'Qty_Sold': 'sum'}).reset_index()\n",
      "\n",
      "plt.figure(figsize=(10, 5))\n",
      "plt.plot(df_grouped['Sold_Date'], df_grouped['Qty_Sold'], marker='o')\n",
      "plt.title('A line chart of sales by product SKU')\n",
      "plt.xlabel('Date')\n",
      "plt.ylabel('Quantity Sold')\n",
      "plt.xticks(rotation=45)\n",
      "plt.grid()\n",
      "plt.tight_layout()\n",
      "plt.show()\n"
     ]
    }
   ],
   "source": [
    "code = generate_visualization(example_data, \n",
    "                              \"A bar chart of sales by product SKU. Put the product SKU on the x-axis and the sales on the y-axis.\")\n",
    "print(code)"
   ]
  },
  {
   "cell_type": "code",
   "execution_count": 25,
   "id": "ed15423e-473e-480a-b79e-97f879673dca",
   "metadata": {
    "tags": []
   },
   "outputs": [
    {
     "data": {
      "image/png": "[encoded data removed]",
      "text/plain": [
       "<Figure size 1000x500 with 1 Axes>"
      ]
     },
     "metadata": {},
     "output_type": "display_data"
    }
   ],
   "source": [
    "exec(code)"
   ]
  },
  {
   "cell_type": "markdown",
   "id": "f3c78bab-4ace-4706-a114-9fe42e322e6e",
   "metadata": {},
   "source": [
    "## Defining the Router"
   ]
  },
  {
   "cell_type": "markdown",
   "id": "c1a88e2e-af8c-43e9-96db-6faa76b62447",
   "metadata": {},
   "source": [
    "Now that all of the tools are defined, you can create the router. The router will take the original user input, and is responsible for calling any tools. After each tool call is completed, the agent will return to router to determine whether another tool should be called."
   ]
  },
  {
   "cell_type": "markdown",
   "id": "9e0a2365-727e-4617-87d2-d3821791b65d",
   "metadata": {},
   "source": [
    "### Tool Schema"
   ]
  },
  {
   "cell_type": "markdown",
   "id": "1aea6465-d5e0-4479-b92a-af7e71ccdf04",
   "metadata": {},
   "source": [
    "Let's define the tools in a way that can be understood by our OpenAI model. OpenAI understands a specific JSON format:"
   ]
  },
  {
   "cell_type": "code",
   "execution_count": 26,
   "id": "c8fdcaef-c47a-4b2c-b163-553f44055876",
   "metadata": {
    "tags": []
   },
   "outputs": [],
   "source": [
    "# Define tools/functions that can be called by the model\n",
    "tools = [\n",
    "    {\n",
    "        \"type\": \"function\",\n",
    "        \"function\": {\n",
    "            \"name\": \"lookup_sales_data\",\n",
    "            \"description\": \"Look up data from Store Sales Price Elasticity Promotions dataset\",\n",
    "            \"parameters\": {\n",
    "                \"type\": \"object\",\n",
    "                \"properties\": {\n",
    "                    \"prompt\": {\"type\": \"string\", \"description\": \"The unchanged prompt that the user provided.\"}\n",
    "                },\n",
    "                \"required\": [\"prompt\"]\n",
    "            }\n",
    "        }\n",
    "    },\n",
    "    {\n",
    "        \"type\": \"function\",\n",
    "        \"function\": {\n",
    "            \"name\": \"analyze_sales_data\", \n",
    "            \"description\": \"Analyze sales data to extract insights\",\n",
    "            \"parameters\": {\n",
    "                \"type\": \"object\",\n",
    "                \"properties\": {\n",
    "                    \"data\": {\"type\": \"string\", \"description\": \"The lookup_sales_data tool's output.\"},\n",
    "                    \"prompt\": {\"type\": \"string\", \"description\": \"The unchanged prompt that the user provided.\"}\n",
    "                },\n",
    "                \"required\": [\"data\", \"prompt\"]\n",
    "            }\n",
    "        }\n",
    "    },\n",
    "    {\n",
    "        \"type\": \"function\",\n",
    "        \"function\": {\n",
    "            \"name\": \"generate_visualization\",\n",
    "            \"description\": \"Generate Python code to create data visualizations\",\n",
    "            \"parameters\": {\n",
    "                \"type\": \"object\", \n",
    "                \"properties\": {\n",
    "                    \"data\": {\"type\": \"string\", \"description\": \"The lookup_sales_data tool's output.\"},\n",
    "                    \"visualization_goal\": {\"type\": \"string\", \"description\": \"The goal of the visualization.\"}\n",
    "                },\n",
    "                \"required\": [\"data\", \"visualization_goal\"]\n",
    "            }\n",
    "        }\n",
    "    }\n",
    "]\n",
    "\n",
    "# Dictionary mapping function names to their implementations\n",
    "tool_implementations = {\n",
    "    \"lookup_sales_data\": lookup_sales_data,\n",
    "    \"analyze_sales_data\": analyze_sales_data, \n",
    "    \"generate_visualization\": generate_visualization\n",
    "}"
   ]
  },
  {
   "cell_type": "markdown",
   "id": "f8ae5a40-5e9e-4253-9c18-e87a17625270",
   "metadata": {},
   "source": [
    "### Router Logic"
   ]
  },
  {
   "cell_type": "markdown",
   "id": "18772581-0516-4956-b1f3-9304df94b9ab",
   "metadata": {},
   "source": [
    "The router is composed of a main loop method, and a method to handle the tool calls that you get back from the model.\n",
    "\n",
    "<img src=\"images/router.png\" width=\"800\"/>"
   ]
  },
  {
   "cell_type": "markdown",
   "id": "af6c9771-9885-4445-ab10-58fbe51ceeb7",
   "metadata": {},
   "source": [
    "The following two cells define the function `handle_tool_calls` and the variable `SYSTEM_PROMPT`, which will be used by the function `run_agent` defining the router logic."
   ]
  },
  {
   "cell_type": "code",
   "execution_count": 27,
   "id": "ef912eb7-7d33-48ad-b509-17d72bd2759f",
   "metadata": {
    "tags": []
   },
   "outputs": [],
   "source": [
    "# code for executing the tools returned in the model's response\n",
    "@tracer.chain()\n",
    "def handle_tool_calls(tool_calls, messages):\n",
    "    \n",
    "    for tool_call in tool_calls:   \n",
    "        function = tool_implementations[tool_call.function.name]\n",
    "        function_args = json.loads(tool_call.function.arguments)\n",
    "        result = function(**function_args)\n",
    "        messages.append({\"role\": \"tool\", \"content\": result, \"tool_call_id\": tool_call.id})\n",
    "        \n",
    "    return messages"
   ]
  },
  {
   "cell_type": "code",
   "execution_count": 28,
   "id": "3da60856-f7b0-4789-b851-f5a83a96084d",
   "metadata": {
    "tags": []
   },
   "outputs": [],
   "source": [
    "SYSTEM_PROMPT = \"\"\"\n",
    "You are a helpful assistant that can answer questions about the Store Sales Price Elasticity Promotions dataset.\n",
    "\"\"\""
   ]
  },
  {
   "cell_type": "code",
   "execution_count": 29,
   "id": "1adefb3c-4869-4c33-80eb-3775af9e327d",
   "metadata": {
    "tags": []
   },
   "outputs": [],
   "source": [
    "def run_agent(messages):\n",
    "    print(\"Running agent with messages:\", messages)\n",
    "    if isinstance(messages, str):\n",
    "        messages = [{\"role\": \"user\", \"content\": messages}]\n",
    "    if not any(\n",
    "            isinstance(message, dict) and message.get(\"role\") == \"system\" for message in messages\n",
    "        ):\n",
    "            system_prompt = {\"role\": \"system\", \"content\": SYSTEM_PROMPT}\n",
    "            messages.append(system_prompt)\n",
    "\n",
    "    while True:\n",
    "        # Router Span\n",
    "        print(\"Starting router call span\")\n",
    "        with tracer.start_as_current_span(\n",
    "            \"router_call\", openinference_span_kind=\"chain\",\n",
    "        ) as span:\n",
    "            span.set_input(value=messages)\n",
    "            \n",
    "            response = client.chat.completions.create(\n",
    "                model=MODEL,\n",
    "                messages=messages,\n",
    "                tools=tools,\n",
    "            )\n",
    "            messages.append(response.choices[0].message.model_dump())\n",
    "            tool_calls = response.choices[0].message.tool_calls\n",
    "            print(\"Received response with tool calls:\", bool(tool_calls))\n",
    "            span.set_status(StatusCode.OK)\n",
    "    \n",
    "            if tool_calls:\n",
    "                print(\"Starting tool calls span\")\n",
    "                messages = handle_tool_calls(tool_calls, messages)\n",
    "                span.set_output(value=tool_calls)\n",
    "            else:\n",
    "                print(\"No tool calls, returning final response\")\n",
    "                span.set_output(value=response.choices[0].message.content)\n",
    "                return response.choices[0].message.content"
   ]
  },
  {
   "cell_type": "code",
   "execution_count": 30,
   "id": "013aa78d",
   "metadata": {},
   "outputs": [],
   "source": [
    "def start_main_span(messages):\n",
    "    print(\"Starting main span with messages:\", messages)\n",
    "    \n",
    "    with tracer.start_as_current_span(\n",
    "        \"AgentRun\", openinference_span_kind=\"agent\"\n",
    "    ) as span:\n",
    "        span.set_input(value=messages)\n",
    "        ret = run_agent(messages)\n",
    "        print(\"Main span completed with return value:\", ret)\n",
    "        span.set_output(value=ret)\n",
    "        span.set_status(StatusCode.OK)\n",
    "        return ret"
   ]
  },
  {
   "cell_type": "code",
   "execution_count": 31,
   "id": "a4391ad0-3494-4385-90f1-cb20baaf0879",
   "metadata": {
    "tags": []
   },
   "outputs": [
    {
     "name": "stdout",
     "output_type": "stream",
     "text": [
      "Starting main span with messages: [{'role': 'user', 'content': 'Which stores did the best in 2021?'}]\n",
      "Running agent with messages: [{'role': 'user', 'content': 'Which stores did the best in 2021?'}]\n",
      "Starting router call span\n",
      "Received response with tool calls: True\n",
      "Starting tool calls span\n",
      "Starting router call span\n",
      "Received response with tool calls: True\n",
      "Starting tool calls span\n",
      "Starting router call span\n",
      "Received response with tool calls: False\n",
      "No tool calls, returning final response\n",
      "Main span completed with return value: The best-performing stores in 2021, based on total sale value and quantity sold, are:\n",
      "\n",
      "1. **Store 0 (2970)**:  \n",
      "   - Total Sale Value: $84,454.33  \n",
      "   - Total Quantity Sold: 5,867  \n",
      "\n",
      "2. **Store 1 (3300)**:  \n",
      "   - Total Sale Value: $63,205.33  \n",
      "   - Total Quantity Sold: 5,124  \n",
      "\n",
      "3. **Store 2 (1650)**:  \n",
      "   - Total Sale Value: $62,152.43  \n",
      "   - Total Quantity Sold: 4,673  \n",
      "\n",
      "Store 0 stands out as the top performer in both metrics, indicating strong overall financial performance and customer demand.\n"
     ]
    }
   ],
   "source": [
    "result = start_main_span([{\"role\": \"user\", \n",
    "                           \"content\": \"Which stores did the best in 2021?\"}])"
   ]
  },
  {
   "cell_type": "code",
   "execution_count": 32,
   "id": "19f4b3f6-2628-4992-aa78-3ba92b0b4051",
   "metadata": {
    "tags": []
   },
   "outputs": [
    {
     "name": "stdout",
     "output_type": "stream",
     "text": [
      "The best-performing stores in 2021, based on total sale value and quantity sold, are:\n",
      "\n",
      "1. **Store 0 (2970)**:  \n",
      "   - Total Sale Value: $84,454.33  \n",
      "   - Total Quantity Sold: 5,867  \n",
      "\n",
      "2. **Store 1 (3300)**:  \n",
      "   - Total Sale Value: $63,205.33  \n",
      "   - Total Quantity Sold: 5,124  \n",
      "\n",
      "3. **Store 2 (1650)**:  \n",
      "   - Total Sale Value: $62,152.43  \n",
      "   - Total Quantity Sold: 4,673  \n",
      "\n",
      "Store 0 stands out as the top performer in both metrics, indicating strong overall financial performance and customer demand.\n"
     ]
    }
   ],
   "source": [
    "print(result)\n",
    "# you can also print a formatted version of the result\n",
    "# Markdown(result)"
   ]
  },
  {
   "cell_type": "code",
   "execution_count": null,
   "id": "1c95c828-64ed-485b-8c01-acc84838fd22",
   "metadata": {},
   "outputs": [],
   "source": []
  }
 ],
 "metadata": {
  "kernelspec": {
   "display_name": "Python 3",
   "language": "python",
   "name": "python3"
  },
  "language_info": {
   "codemirror_mode": {
    "name": "ipython",
    "version": 3
   },
   "file_extension": ".py",
   "mimetype": "text/x-python",
   "name": "python",
   "nbconvert_exporter": "python",
   "pygments_lexer": "ipython3",
   "version": "3.12.9"
  }
 },
 "nbformat": 4,
 "nbformat_minor": 5
}
