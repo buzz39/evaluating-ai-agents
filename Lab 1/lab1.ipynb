{
 "cells": [
  {
   "cell_type": "code",
   "execution_count": 29,
   "id": "0d5e665a-d4f5-407f-8fcf-9cdcf0ea9fac",
   "metadata": {
    "tags": []
   },
   "outputs": [
    {
     "name": "stdout",
     "output_type": "stream",
     "text": [
      "Requirement already satisfied: openai in /anaconda/envs/azureml_py38/lib/python3.10/site-packages (1.63.2)\n",
      "Requirement already satisfied: pandas in /anaconda/envs/azureml_py38/lib/python3.10/site-packages (1.5.3)\n",
      "Requirement already satisfied: duckdb in /anaconda/envs/azureml_py38/lib/python3.10/site-packages (1.2.0)\n",
      "Requirement already satisfied: pydantic in /anaconda/envs/azureml_py38/lib/python3.10/site-packages (2.9.2)\n",
      "Requirement already satisfied: dotenv in /anaconda/envs/azureml_py38/lib/python3.10/site-packages (0.9.9)\n",
      "Requirement already satisfied: tqdm>4 in /anaconda/envs/azureml_py38/lib/python3.10/site-packages (from openai) (4.67.1)\n",
      "Requirement already satisfied: distro<2,>=1.7.0 in /anaconda/envs/azureml_py38/lib/python3.10/site-packages (from openai) (1.9.0)\n",
      "Requirement already satisfied: typing-extensions<5,>=4.11 in /anaconda/envs/azureml_py38/lib/python3.10/site-packages (from openai) (4.12.2)\n",
      "Requirement already satisfied: httpx<1,>=0.23.0 in /anaconda/envs/azureml_py38/lib/python3.10/site-packages (from openai) (0.28.1)\n",
      "Requirement already satisfied: anyio<5,>=3.5.0 in /anaconda/envs/azureml_py38/lib/python3.10/site-packages (from openai) (4.8.0)\n",
      "Requirement already satisfied: sniffio in /anaconda/envs/azureml_py38/lib/python3.10/site-packages (from openai) (1.3.1)\n",
      "Requirement already satisfied: jiter<1,>=0.4.0 in /anaconda/envs/azureml_py38/lib/python3.10/site-packages (from openai) (0.8.2)\n",
      "Requirement already satisfied: pytz>=2020.1 in /anaconda/envs/azureml_py38/lib/python3.10/site-packages (from pandas) (2022.5)\n",
      "Requirement already satisfied: python-dateutil>=2.8.1 in /anaconda/envs/azureml_py38/lib/python3.10/site-packages (from pandas) (2.9.0.post0)\n",
      "Requirement already satisfied: numpy>=1.21.0 in /anaconda/envs/azureml_py38/lib/python3.10/site-packages (from pandas) (1.23.5)\n",
      "Requirement already satisfied: pydantic-core==2.23.4 in /anaconda/envs/azureml_py38/lib/python3.10/site-packages (from pydantic) (2.23.4)\n",
      "Requirement already satisfied: annotated-types>=0.6.0 in /anaconda/envs/azureml_py38/lib/python3.10/site-packages (from pydantic) (0.7.0)\n",
      "Requirement already satisfied: python-dotenv in /anaconda/envs/azureml_py38/lib/python3.10/site-packages (from dotenv) (1.0.1)\n",
      "Requirement already satisfied: exceptiongroup>=1.0.2 in /anaconda/envs/azureml_py38/lib/python3.10/site-packages (from anyio<5,>=3.5.0->openai) (1.2.2)\n",
      "Requirement already satisfied: idna>=2.8 in /anaconda/envs/azureml_py38/lib/python3.10/site-packages (from anyio<5,>=3.5.0->openai) (3.10)\n",
      "Requirement already satisfied: certifi in /anaconda/envs/azureml_py38/lib/python3.10/site-packages (from httpx<1,>=0.23.0->openai) (2024.12.14)\n",
      "Requirement already satisfied: httpcore==1.* in /anaconda/envs/azureml_py38/lib/python3.10/site-packages (from httpx<1,>=0.23.0->openai) (1.0.7)\n",
      "Requirement already satisfied: h11<0.15,>=0.13 in /anaconda/envs/azureml_py38/lib/python3.10/site-packages (from httpcore==1.*->httpx<1,>=0.23.0->openai) (0.14.0)\n",
      "Requirement already satisfied: six>=1.5 in /anaconda/envs/azureml_py38/lib/python3.10/site-packages (from python-dateutil>=2.8.1->pandas) (1.17.0)\n"
     ]
    }
   ],
   "source": [
    "!pip install openai pandas duckdb pydantic dotenv"
   ]
  },
  {
   "cell_type": "markdown",
   "id": "fcdb48df-fa3d-41d5-aae0-93e7251a8a6a",
   "metadata": {},
   "source": [
    "# Building your Agent "
   ]
  },
  {
   "cell_type": "markdown",
   "id": "f6bf3f5a-9dde-4171-a2d3-bb6b7774a951",
   "metadata": {},
   "source": [
    "The agent is comprised of a router using OpenAI function calling, and a set of three tools: a database lookup tool, a data analysis tool, and a code generator to create graphs.\n",
    "\n",
    "<img src=\"images/agent.png\" width=\"500\"/>\n",
    "\n",
    "\n",
    "The agent can lookup information from a local file, perform analysis on that information, and graph results. The example local file is a log of transactions at a local store. The agent can help the store owners understand trends and anomalies in their sales data."
   ]
  },
  {
   "cell_type": "code",
   "execution_count": 2,
   "id": "338ae67b-9827-4c2e-930a-c0901c93945d",
   "metadata": {
    "tags": []
   },
   "outputs": [],
   "source": [
    "from openai import OpenAI\n",
    "import pandas as pd\n",
    "import json\n",
    "import duckdb\n",
    "from pydantic import BaseModel, Field\n",
    "from IPython.display import Markdown\n",
    "\n",
    "from helper import get_openai_api_key"
   ]
  },
  {
   "cell_type": "markdown",
   "id": "03d9abe4-f216-48b6-9c87-fa6ffd25360a",
   "metadata": {
    "tags": []
   },
   "source": [
    "## Initializing the OpenAI client"
   ]
  },
  {
   "cell_type": "code",
   "execution_count": 3,
   "id": "2f87a954-ab7e-4875-b863-7b6209147027",
   "metadata": {
    "tags": []
   },
   "outputs": [],
   "source": [
    "# initialize the OpenAI client\n",
    "openai_api_key = get_openai_api_key()\n",
    "client = OpenAI(api_key=openai_api_key)\n",
    "\n",
    "MODEL = \"gpt-4o-mini\""
   ]
  },
  {
   "cell_type": "markdown",
   "id": "835b6ea8-065a-48b3-8073-0724a500c367",
   "metadata": {},
   "source": [
    "## Defining the tools"
   ]
  },
  {
   "cell_type": "markdown",
   "id": "7051016e-ab69-483a-ac2f-9826a30fccff",
   "metadata": {},
   "source": [
    "Let's start by creating the three tools the agent will be able to use."
   ]
  },
  {
   "cell_type": "code",
   "execution_count": 4,
   "id": "5a18d076-c0cf-4de1-848e-df0b5c0d64e9",
   "metadata": {},
   "outputs": [],
   "source": [
    "# define the path to the transactional data\n",
    "TRANSACTION_DATA_FILE_PATH = 'data/Store_Sales_Price_Elasticity_Promotions_Data.parquet'"
   ]
  },
  {
   "cell_type": "markdown",
   "id": "f31fec27-5d55-49c7-9b03-829a2d9e09ac",
   "metadata": {},
   "source": [
    "This database lookup tool works using three steps. \n",
    "\n",
    "<img src=\"images/tool1.png\" width=\"500\"/>\n",
    "\n",
    "1. First, it creates the SQL table from a local file, if not already done.\n",
    "2. Second, it translates the original prompt into an sql query (using an LLM call).\n",
    "3. Finally, it runs that query against the database."
   ]
  },
  {
   "cell_type": "code",
   "execution_count": 5,
   "id": "34bbefbc-a5a0-4d54-b5d1-47210eb33030",
   "metadata": {
    "tags": []
   },
   "outputs": [],
   "source": [
    "# prompt template for step 2 of tool 1\n",
    "SQL_GENERATION_PROMPT = \"\"\"\n",
    "Generate an SQL query based on a prompt. Do not reply with anything besides the SQL query.\n",
    "The prompt is: {prompt}\n",
    "\n",
    "The available columns are: {columns}\n",
    "The table name is: {table_name}\n",
    "\"\"\""
   ]
  },
  {
   "cell_type": "code",
   "execution_count": 7,
   "id": "4af7ff01-385f-40b5-a3e3-93c9ddabe73e",
   "metadata": {
    "tags": []
   },
   "outputs": [],
   "source": [
    "# code for step 2 of tool 1\n",
    "def generate_sql_query(prompt: str, columns: list, table_name: str) -> str:\n",
    "    \"\"\"Generate an SQL query based on a prompt\"\"\"\n",
    "    formatted_prompt = SQL_GENERATION_PROMPT.format(prompt=prompt, \n",
    "                                                    columns=columns, \n",
    "                                                    table_name=table_name)\n",
    "\n",
    "    response = client.chat.completions.create(\n",
    "        model=MODEL,\n",
    "        messages=[{\"role\": \"user\", \"content\": formatted_prompt}],\n",
    "    )\n",
    "\n",
    "    return response.choices[0].message.content"
   ]
  },
  {
   "cell_type": "code",
   "execution_count": 8,
   "id": "5ec72e20-9e92-4664-b209-4c8589d0c73f",
   "metadata": {
    "tags": []
   },
   "outputs": [],
   "source": [
    "# code for tool 1\n",
    "def lookup_sales_data(prompt: str) -> str:\n",
    "    \"\"\"Implementation of sales data lookup from parquet file using SQL\"\"\"\n",
    "    try:\n",
    "\n",
    "        # define the table name\n",
    "        table_name = \"sales\"\n",
    "        \n",
    "        # step 1: read the parquet file into a DuckDB table\n",
    "        df = pd.read_parquet(TRANSACTION_DATA_FILE_PATH)\n",
    "        duckdb.sql(f\"CREATE TABLE IF NOT EXISTS {table_name} AS SELECT * FROM df\")\n",
    "\n",
    "        # step 2: generate the SQL code\n",
    "        sql_query = generate_sql_query(prompt, df.columns, table_name)\n",
    "        # clean the response to make sure it only includes the SQL code\n",
    "        sql_query = sql_query.strip()\n",
    "        sql_query = sql_query.replace(\"```sql\", \"\").replace(\"```\", \"\")\n",
    "        \n",
    "        # step 3: execute the SQL query\n",
    "        result = duckdb.sql(sql_query).df()\n",
    "        \n",
    "        return result.to_string()\n",
    "    except Exception as e:\n",
    "        return f\"Error accessing data: {str(e)}\""
   ]
  },
  {
   "cell_type": "markdown",
   "id": "7608fff0-2899-4574-b9af-a07dae7069cc",
   "metadata": {},
   "source": [
    "Great! Now let's test the first tool and make sure it worked correctly."
   ]
  },
  {
   "cell_type": "code",
   "execution_count": 10,
   "id": "2522c97b-9c90-4e36-a647-25bae44b6ca9",
   "metadata": {
    "tags": []
   },
   "outputs": [
    {
     "name": "stdout",
     "output_type": "stream",
     "text": [
      "```sql\n",
      "SELECT * \n",
      "FROM sales \n",
      "WHERE Store_Number = 1320 \n",
      "AND Sold_Date = '2021-11-01';\n",
      "```\n",
      "    Store_Number  SKU_Coded  Product_Class_Code  Sold_Date  Qty_Sold  Total_Sale_Value  On_Promo\n",
      "0           1320    6173050               22875 2021-11-01         1          4.990000         0\n",
      "1           1320    6174250               22875 2021-11-01         1          0.890000         0\n",
      "2           1320    6176200               22975 2021-11-01         2         99.980003         0\n",
      "3           1320    6176800               22800 2021-11-01         1         14.970000         0\n",
      "4           1320    6177250               22975 2021-11-01         1          6.890000         0\n",
      "5           1320    6177300               22800 2021-11-01         1          9.990000         0\n",
      "6           1320    6177350               22800 2021-11-01         2         16.980000         0\n",
      "7           1320    6177700               22875 2021-11-01         1          3.190000         0\n",
      "8           1320    6178000               22875 2021-11-01         2          6.380000         0\n",
      "9           1320    6178250               22800 2021-11-01         1         16.590000         0\n",
      "10          1320    6179250               24400 2021-11-01         1         14.990000         0\n",
      "11          1320    6179300               22800 2021-11-01         2          9.980000         0\n",
      "12          1320    6179400               24400 2021-11-01         2         29.980000         0\n",
      "13          1320    6179450               24400 2021-11-01         1         14.990000         0\n",
      "14          1320    6179500               24400 2021-11-01         1         14.990000         0\n",
      "15          1320    6179750               22800 2021-11-01         2         39.980000         0\n",
      "16          1320    6180550               22975 2021-11-01         1         15.990000         0\n",
      "17          1320    6182050               22975 2021-11-01         1          7.990000         0\n",
      "18          1320    6183750               22850 2021-11-01         3         38.970001         0\n",
      "19          1320    6184100               22975 2021-11-01         3         59.970001         0\n",
      "20          1320    6188550               22950 2021-11-01         2         15.980000         0\n",
      "21          1320    6190050               24425 2021-11-01         5         19.950001         0\n",
      "22          1320    6190150               24425 2021-11-01         1          8.990000         0\n",
      "23          1320    6190200               24425 2021-11-01         1          8.990000         0\n",
      "24          1320    6190250               24425 2021-11-01         1          7.990000         0\n",
      "25          1320    6190350               22950 2021-11-01         1          6.990000         0\n",
      "26          1320    6190400               22950 2021-11-01         1          6.990000         0\n",
      "27          1320    6193750               22875 2021-11-01         1          6.990000         0\n",
      "28          1320    6195350               24375 2021-11-01         1         16.990000         0\n",
      "29          1320    6195800               22850 2021-11-01         3         25.719999         1\n"
     ]
    }
   ],
   "source": [
    "example_data = lookup_sales_data(\"Show me all the sales for store 1320 on November 1st, 2021\")\n",
    "print(example_data)"
   ]
  },
  {
   "cell_type": "markdown",
   "id": "e27d0165-910a-41f4-9e03-00bef058129d",
   "metadata": {},
   "source": [
    "### Tool 2: Data Analysis"
   ]
  },
  {
   "cell_type": "markdown",
   "id": "d651c17e-35e9-4f78-97f1-d4c800010e74",
   "metadata": {},
   "source": [
    "The second tool can analyze the returned data and display conclusions to users.\n",
    "\n",
    "<img src=\"images/tool2.png\" width=\"300\"/>"
   ]
  },
  {
   "cell_type": "code",
   "execution_count": 11,
   "id": "92988b00-8808-48b2-876f-d7173f129c4e",
   "metadata": {
    "tags": []
   },
   "outputs": [],
   "source": [
    "# Construct prompt based on analysis type and data subset\n",
    "DATA_ANALYSIS_PROMPT = \"\"\"\n",
    "Analyze the following data: {data}\n",
    "Your job is to answer the following question: {prompt}\n",
    "\"\"\""
   ]
  },
  {
   "cell_type": "code",
   "execution_count": 12,
   "id": "642b3530-2fe1-4311-9bed-b980b68d456e",
   "metadata": {
    "tags": []
   },
   "outputs": [],
   "source": [
    "# code for tool 2\n",
    "def analyze_sales_data(prompt: str, data: str) -> str:\n",
    "    \"\"\"Implementation of AI-powered sales data analysis\"\"\"\n",
    "    formatted_prompt = DATA_ANALYSIS_PROMPT.format(data=data, prompt=prompt)\n",
    "\n",
    "    response = client.chat.completions.create(\n",
    "        model=MODEL,\n",
    "        messages=[{\"role\": \"user\", \"content\": formatted_prompt}],\n",
    "    )\n",
    "    \n",
    "    analysis = response.choices[0].message.content\n",
    "    return analysis if analysis else \"No analysis could be generated\""
   ]
  },
  {
   "cell_type": "markdown",
   "id": "2fc227e5-257c-4459-9c3f-1a9b3527a839",
   "metadata": {},
   "source": [
    "This tool is relatively simple, but let's still test it out to be sure things are working correctly."
   ]
  },
  {
   "cell_type": "code",
   "execution_count": 13,
   "id": "07b4dc6b-11a2-43db-8c29-7f11493d15cf",
   "metadata": {
    "tags": []
   },
   "outputs": [
    {
     "name": "stdout",
     "output_type": "stream",
     "text": [
      "To analyze the provided data, let's examine key trends and patterns based on the available columns: Store Number, SKU Code, Product Class Code, Sold Date, Quantity Sold, Total Sale Value, and On Promo. The data consists of sales records for a single store (Store_Number 1320) on a specific date (2021-11-01).\n",
      "\n",
      "### Key Observations:\n",
      "\n",
      "1. **Sales by Product Class**:\n",
      "   - The data appears to include several product class codes (e.g., 22800, 22975, 24400) with varying sales quantities and values.\n",
      "   - **Product Class 22975** and **24400** seem to have higher sale values indicating they may be higher-priced items compared to others like **22800** and **22875**, which show lower total sales values.\n",
      "\n",
      "2. **Pricing Trends**:\n",
      "   - There is a diversity in the total sale values for the items sold, ranging from approximately $0.89 to $99.98, with most items generally priced under $30.\n",
      "   - The highest total sale value here is associated with a quantity of 2 units of **SKU_Coded 6176200 (Product Class 22975)**.\n",
      "\n",
      "3. **Promotional Activity**:\n",
      "   - **On Promo Flag**: Most sales recorded have an \"On Promo\" value of 0, indicating that promotions were not a significant factor in driving sales for the majority of items.\n",
      "   - Only one record (SKU 6195800) has a promotional flag set to 1, suggesting a possible strategy of minimal promotion on this date or an overall low promotional activity in the store.\n",
      "\n",
      "4. **Quantity Sold**:\n",
      "   - The quantity sold varies, but there are some instances where multiple quantities are sold for a single SKU (e.g., 5 for SKU 6190050 and 3 for SKUs 6183750 and 6184100).\n",
      "   - The most frequently sold quantities are 1 and 2, but items seem to sell in batches of 3 and 5 occasionally, suggesting that larger quantities are less common.\n",
      "\n",
      "5. **Sales Volume**:\n",
      "   - The total quantity sold across all products is 48 units, leading to a total sales value of approximately $397.36. This indicates a fair volume of sales for the single date provided.\n",
      "\n",
      "6. **Potential Trend Identification**:\n",
      "   - The dataset reflects a trend of lower price point items generating consistent sales, while higher-end items (like one SKU priced at about $99.98) can significantly contribute to total sales but were sold less frequently.\n",
      "   - The lack of promotions implies that customers may still be purchasing items based on intrinsic value rather than distinct changes in price, which can indicate brand loyalty or product necessity.\n",
      "\n",
      "### Conclusion:\n",
      "The data indicates a varied sales environment with a focus on multiple product classes, most of which did not leverage promotional strategies on the given date. The pricing and sales patterns could suggest a stable customer base that purchases regularly without the need for discounts, although the occurrence of higher-priced items reveals the potential for greater revenue generation on lower sales volumes. Further analysis over a longer timeline may provide better insights into customer behavior and trends.\n"
     ]
    }
   ],
   "source": [
    "print(analyze_sales_data(prompt=\"what trends do you see in this data\", \n",
    "                         data=example_data))"
   ]
  },
  {
   "cell_type": "markdown",
   "id": "a2d6e909-9726-4845-9122-1b8915852313",
   "metadata": {},
   "source": [
    "### Tool 3: Data Visualization"
   ]
  },
  {
   "cell_type": "markdown",
   "id": "cbe5db09-d115-418a-acc0-983214d110cf",
   "metadata": {
    "tags": []
   },
   "source": [
    "The third tool generates python code to create the requested graphs from the returned data of the first tool. It consists of two steps:\n",
    "    \n",
    "<img src=\"images/tool3.png\" width=\"500\"/>\n",
    "1. First, it creates the chart configuration: chart type, title, data, lables for x-axis and y-axis (using an LLM call).\n",
    "\n",
    "2. Second, it generates the python code based on the chart configuration of the first step (using an LLM call)."
   ]
  },
  {
   "cell_type": "code",
   "execution_count": 14,
   "id": "8e57a552-8d40-40be-bd3e-cb9443c4080b",
   "metadata": {
    "tags": []
   },
   "outputs": [],
   "source": [
    "# prompt template for step 1 of tool 3\n",
    "CHART_CONFIGURATION_PROMPT = \"\"\"\n",
    "Generate a chart configuration based on this data: {data}\n",
    "The goal is to show: {visualization_goal}\n",
    "\"\"\""
   ]
  },
  {
   "cell_type": "markdown",
   "id": "614fdbc1-d9da-4e58-bae0-bca66d02d798",
   "metadata": {},
   "source": [
    "# prompt template for step 1 of tool 3\n",
    "CHART_CONFIGURATION_PROMPT = \"\"\"\n",
    "Generate a chart configuration based on this data: {data}\n",
    "The goal is to show: {visualization_goal}\n",
    "\"\"\""
   ]
  },
  {
   "cell_type": "code",
   "execution_count": 15,
   "id": "318b5fba-1eca-4d8b-a642-5878bccf09a2",
   "metadata": {
    "tags": []
   },
   "outputs": [],
   "source": [
    "# class defining the response format of step 1 of tool 3\n",
    "class VisualizationConfig(BaseModel):\n",
    "    chart_type: str = Field(..., description=\"Type of chart to generate\")\n",
    "    x_axis: str = Field(..., description=\"Name of the x-axis column\")\n",
    "    y_axis: str = Field(..., description=\"Name of the y-axis column\")\n",
    "    title: str = Field(..., description=\"Title of the chart\")"
   ]
  },
  {
   "cell_type": "code",
   "execution_count": 16,
   "id": "c999e7a9-6d38-4487-ab74-bf2597afa95f",
   "metadata": {
    "tags": []
   },
   "outputs": [],
   "source": [
    "# code for step 1 of tool 3\n",
    "def extract_chart_config(data: str, visualization_goal: str) -> dict:\n",
    "    \"\"\"Generate chart visualization configuration\n",
    "    \n",
    "    Args:\n",
    "        data: String containing the data to visualize\n",
    "        visualization_goal: Description of what the visualization should show\n",
    "        \n",
    "    Returns:\n",
    "        Dictionary containing line chart configuration\n",
    "    \"\"\"\n",
    "    formatted_prompt = CHART_CONFIGURATION_PROMPT.format(data=data,\n",
    "                                                         visualization_goal=visualization_goal)\n",
    "    \n",
    "    response = client.beta.chat.completions.parse(\n",
    "        model=MODEL,\n",
    "        messages=[{\"role\": \"user\", \"content\": formatted_prompt}],\n",
    "        response_format=VisualizationConfig,\n",
    "    )\n",
    "    \n",
    "    try:\n",
    "        # Extract axis and title info from response\n",
    "        content = response.choices[0].message.content\n",
    "        \n",
    "        # Return structured chart config\n",
    "        return {\n",
    "            \"chart_type\": content.chart_type,\n",
    "            \"x_axis\": content.x_axis,\n",
    "            \"y_axis\": content.y_axis,\n",
    "            \"title\": content.title,\n",
    "            \"data\": data\n",
    "        }\n",
    "    except Exception:\n",
    "        return {\n",
    "            \"chart_type\": \"line\", \n",
    "            \"x_axis\": \"date\",\n",
    "            \"y_axis\": \"value\",\n",
    "            \"title\": visualization_goal,\n",
    "            \"data\": data\n",
    "        }"
   ]
  },
  {
   "cell_type": "code",
   "execution_count": 17,
   "id": "6d58da8d-006a-47f0-929c-db57900a0345",
   "metadata": {
    "tags": []
   },
   "outputs": [],
   "source": [
    "# prompt template for step 2 of tool 3\n",
    "CREATE_CHART_PROMPT = \"\"\"\n",
    "Write python code to create a chart based on the following configuration.\n",
    "Only return the code, no other text.\n",
    "config: {config}\n",
    "\"\"\""
   ]
  },
  {
   "cell_type": "code",
   "execution_count": 18,
   "id": "62b63105-849e-4a97-bbf1-981c6e128fcd",
   "metadata": {
    "tags": []
   },
   "outputs": [],
   "source": [
    "# code for step 2 of tool 3\n",
    "def create_chart(config: dict) -> str:\n",
    "    \"\"\"Create a chart based on the configuration\"\"\"\n",
    "    formatted_prompt = CREATE_CHART_PROMPT.format(config=config)\n",
    "    \n",
    "    response = client.chat.completions.create(\n",
    "        model=MODEL,\n",
    "        messages=[{\"role\": \"user\", \"content\": formatted_prompt}],\n",
    "    )\n",
    "    \n",
    "    code = response.choices[0].message.content\n",
    "    code = code.replace(\"```python\", \"\").replace(\"```\", \"\")\n",
    "    code = code.strip()\n",
    "    \n",
    "    return code"
   ]
  },
  {
   "cell_type": "code",
   "execution_count": 19,
   "id": "65b14d69-3b2e-40ff-8e9a-07401530aa1b",
   "metadata": {
    "tags": []
   },
   "outputs": [],
   "source": [
    "# code for tool 3\n",
    "def generate_visualization(data: str, visualization_goal: str) -> str:\n",
    "    \"\"\"Generate a visualization based on the data and goal\"\"\"\n",
    "    config = extract_chart_config(data, visualization_goal)\n",
    "    code = create_chart(config)\n",
    "    return code"
   ]
  },
  {
   "cell_type": "markdown",
   "id": "21483c7f-8ca8-4bde-85ce-a815aa332ce4",
   "metadata": {},
   "source": [
    "Great, now let's try the third tool out:"
   ]
  },
  {
   "cell_type": "code",
   "execution_count": 20,
   "id": "c62cd115-a2e6-4b37-82d2-0108f62c6d56",
   "metadata": {
    "tags": []
   },
   "outputs": [
    {
     "name": "stdout",
     "output_type": "stream",
     "text": [
      "import pandas as pd\n",
      "import matplotlib.pyplot as plt\n",
      "\n",
      "data = {\n",
      "    'Store_Number': [1320]*30,\n",
      "    'SKU_Coded': [6173050, 6174250, 6176200, 6176800, 6177250, 6177300, 6177350, 6177700, 6178000, 6178250, \n",
      "                  6179250, 6179300, 6179400, 6179450, 6179500, 6179750, 6180550, 6182050, 6183750, 6184100, \n",
      "                  6188550, 6190050, 6190150, 6190200, 6190250, 6190350, 6190400, 6193750, 6195350, 6195800],\n",
      "    'Product_Class_Code': [22875, 22875, 22975, 22800, 22975, 22800, 22800, 22875, 22875, 22800, \n",
      "                           24400, 22800, 24400, 24400, 24400, 22800, 22975, 22975, 22850, 22975, \n",
      "                           22950, 24425, 24425, 24425, 24425, 22950, 22950, 22875, 24375, 22850],\n",
      "    'Sold_Date': ['2021-11-01']*30,\n",
      "    'Qty_Sold': [1, 1, 2, 1, 1, 1, 2, 1, 2, 1, \n",
      "                 1, 2, 2, 1, 1, 2, 1, 1, 3, 3, \n",
      "                 2, 5, 1, 1, 1, 1, 1, 1, 1, 3],\n",
      "    'Total_Sale_Value': [4.99, 0.89, 99.98, 14.97, 6.89, 9.99, 16.98, 3.19, 6.38, 16.59, \n",
      "                         14.99, 9.98, 29.98, 14.99, 14.99, 39.98, 15.99, 7.99, 38.97, 59.97, \n",
      "                         15.98, 19.95, 8.99, 8.99, 7.99, 6.99, 6.99, 6.99, 16.99, 25.72],\n",
      "    'On_Promo': [0]*30\n",
      "}\n",
      "\n",
      "df = pd.DataFrame(data)\n",
      "df['Sold_Date'] = pd.to_datetime(df['Sold_Date'])\n",
      "grouped_data = df.groupby('SKU_Coded').agg({'Total_Sale_Value': 'sum'}).reset_index()\n",
      "\n",
      "plt.figure(figsize=(10, 5))\n",
      "plt.plot(grouped_data['SKU_Coded'], grouped_data['Total_Sale_Value'], marker='o')\n",
      "plt.title('A bar chart of sales by product SKU. Put the product SKU on the x-axis and the sales on the y-axis.')\n",
      "plt.xlabel('Product SKU')\n",
      "plt.ylabel('Total Sales Value')\n",
      "plt.xticks(rotation=45)\n",
      "plt.tight_layout()\n",
      "plt.grid()\n",
      "plt.show()\n"
     ]
    }
   ],
   "source": [
    "code = generate_visualization(example_data, \n",
    "                              \"A bar chart of sales by product SKU. Put the product SKU on the x-axis and the sales on the y-axis.\")\n",
    "print(code)"
   ]
  },
  {
   "cell_type": "code",
   "execution_count": 21,
   "id": "ed15423e-473e-480a-b79e-97f879673dca",
   "metadata": {
    "tags": []
   },
   "outputs": [
    {
     "name": "stderr",
     "output_type": "stream",
     "text": [
      "Matplotlib is building the font cache; this may take a moment.\n"
     ]
    },
    {
     "data": {
      "image/png": "[encoded data removed]",
      "text/plain": [
       "<Figure size 1000x500 with 1 Axes>"
      ]
     },
     "metadata": {},
     "output_type": "display_data"
    }
   ],
   "source": [
    "exec(code)"
   ]
  },
  {
   "cell_type": "markdown",
   "id": "f3c78bab-4ace-4706-a114-9fe42e322e6e",
   "metadata": {},
   "source": [
    "## Defining the Router"
   ]
  },
  {
   "cell_type": "markdown",
   "id": "c1a88e2e-af8c-43e9-96db-6faa76b62447",
   "metadata": {},
   "source": [
    "Now that all of the tools are defined, you can create the router. The router will take the original user input, and is responsible for calling any tools. After each tool call is completed, the agent will return to router to determine whether another tool should be called."
   ]
  },
  {
   "cell_type": "markdown",
   "id": "9e0a2365-727e-4617-87d2-d3821791b65d",
   "metadata": {},
   "source": [
    "### Tool Schema"
   ]
  },
  {
   "cell_type": "markdown",
   "id": "1aea6465-d5e0-4479-b92a-af7e71ccdf04",
   "metadata": {},
   "source": [
    "Let's define the tools in a way that can be understood by our OpenAI model. OpenAI understands a specific JSON format:"
   ]
  },
  {
   "cell_type": "code",
   "execution_count": 25,
   "id": "c8fdcaef-c47a-4b2c-b163-553f44055876",
   "metadata": {
    "tags": []
   },
   "outputs": [],
   "source": [
    "# Define tools/functions that can be called by the model\n",
    "tools = [\n",
    "    {\n",
    "        \"type\": \"function\",\n",
    "        \"function\": {\n",
    "            \"name\": \"lookup_sales_data\",\n",
    "            \"description\": \"Look up data from Store Sales Price Elasticity Promotions dataset\",\n",
    "            \"parameters\": {\n",
    "                \"type\": \"object\",\n",
    "                \"properties\": {\n",
    "                    \"prompt\": {\"type\": \"string\", \"description\": \"The unchanged prompt that the user provided.\"}\n",
    "                },\n",
    "                \"required\": [\"prompt\"]\n",
    "            }\n",
    "        }\n",
    "    },\n",
    "    {\n",
    "        \"type\": \"function\",\n",
    "        \"function\": {\n",
    "            \"name\": \"analyze_sales_data\", \n",
    "            \"description\": \"Analyze sales data to extract insights\",\n",
    "            \"parameters\": {\n",
    "                \"type\": \"object\",\n",
    "                \"properties\": {\n",
    "                    \"data\": {\"type\": \"string\", \"description\": \"The lookup_sales_data tool's output.\"},\n",
    "                    \"prompt\": {\"type\": \"string\", \"description\": \"The unchanged prompt that the user provided.\"}\n",
    "                },\n",
    "                \"required\": [\"data\", \"prompt\"]\n",
    "            }\n",
    "        }\n",
    "    },\n",
    "    {\n",
    "        \"type\": \"function\",\n",
    "        \"function\": {\n",
    "            \"name\": \"generate_visualization\",\n",
    "            \"description\": \"Generate Python code to create data visualizations\",\n",
    "            \"parameters\": {\n",
    "                \"type\": \"object\", \n",
    "                \"properties\": {\n",
    "                    \"data\": {\"type\": \"string\", \"description\": \"The lookup_sales_data tool's output.\"},\n",
    "                    \"visualization_goal\": {\"type\": \"string\", \"description\": \"The goal of the visualization.\"}\n",
    "                },\n",
    "                \"required\": [\"data\", \"visualization_goal\"]\n",
    "            }\n",
    "        }\n",
    "    }\n",
    "]\n",
    "\n",
    "# Dictionary mapping function names to their implementations\n",
    "tool_implementations = {\n",
    "    \"lookup_sales_data\": lookup_sales_data,\n",
    "    \"analyze_sales_data\": analyze_sales_data, \n",
    "    \"generate_visualization\": generate_visualization\n",
    "}"
   ]
  },
  {
   "cell_type": "markdown",
   "id": "f8ae5a40-5e9e-4253-9c18-e87a17625270",
   "metadata": {},
   "source": [
    "### Router Logic"
   ]
  },
  {
   "cell_type": "markdown",
   "id": "18772581-0516-4956-b1f3-9304df94b9ab",
   "metadata": {},
   "source": [
    "The router is composed of a main loop method, and a method to handle the tool calls that you get back from the model.\n",
    "\n",
    "<img src=\"images/router.png\" width=\"800\"/>"
   ]
  },
  {
   "cell_type": "markdown",
   "id": "af6c9771-9885-4445-ab10-58fbe51ceeb7",
   "metadata": {},
   "source": [
    "The following two cells define the function `handle_tool_calls` and the variable `SYSTEM_PROMPT`, which will be used by the function `run_agent` defining the router logic."
   ]
  },
  {
   "cell_type": "code",
   "execution_count": 23,
   "id": "ef912eb7-7d33-48ad-b509-17d72bd2759f",
   "metadata": {
    "tags": []
   },
   "outputs": [],
   "source": [
    "# code for executing the tools returned in the model's response\n",
    "def handle_tool_calls(tool_calls, messages):\n",
    "    \n",
    "    for tool_call in tool_calls:   \n",
    "        function = tool_implementations[tool_call.function.name]\n",
    "        function_args = json.loads(tool_call.function.arguments)\n",
    "        result = function(**function_args)\n",
    "        messages.append({\"role\": \"tool\", \"content\": result, \"tool_call_id\": tool_call.id})\n",
    "        \n",
    "    return messages"
   ]
  },
  {
   "cell_type": "code",
   "execution_count": 24,
   "id": "3da60856-f7b0-4789-b851-f5a83a96084d",
   "metadata": {
    "tags": []
   },
   "outputs": [],
   "source": [
    "SYSTEM_PROMPT = \"\"\"\n",
    "You are a helpful assistant that can answer questions about the Store Sales Price Elasticity Promotions dataset.\n",
    "\"\"\""
   ]
  },
  {
   "cell_type": "code",
   "execution_count": 26,
   "id": "1adefb3c-4869-4c33-80eb-3775af9e327d",
   "metadata": {
    "tags": []
   },
   "outputs": [],
   "source": [
    "def run_agent(messages):\n",
    "    print(\"Running agent with messages:\", messages)\n",
    "\n",
    "    if isinstance(messages, str):\n",
    "        messages = [{\"role\": \"user\", \"content\": messages}]\n",
    "        \n",
    "    # Check and add system prompt if needed\n",
    "    if not any(\n",
    "            isinstance(message, dict) and message.get(\"role\") == \"system\" for message in messages\n",
    "        ):\n",
    "            system_prompt = {\"role\": \"system\", \"content\": SYSTEM_PROMPT}\n",
    "            messages.append(system_prompt)\n",
    "\n",
    "    while True:\n",
    "        print(\"Making router call to OpenAI\")\n",
    "        response = client.chat.completions.create(\n",
    "            model=MODEL,\n",
    "            messages=messages,\n",
    "            tools=tools,\n",
    "        )\n",
    "        messages.append(response.choices[0].message)\n",
    "        tool_calls = response.choices[0].message.tool_calls\n",
    "        print(\"Received response with tool calls:\", bool(tool_calls))\n",
    "\n",
    "        # if the model decides to call function(s), call handle_tool_calls\n",
    "        if tool_calls:\n",
    "            print(\"Processing tool calls\")\n",
    "            messages = handle_tool_calls(tool_calls, messages)\n",
    "        else:\n",
    "            print(\"No tool calls, returning final response\")\n",
    "            return response.choices[0].message.content"
   ]
  },
  {
   "cell_type": "code",
   "execution_count": 27,
   "id": "a4391ad0-3494-4385-90f1-cb20baaf0879",
   "metadata": {
    "tags": []
   },
   "outputs": [
    {
     "name": "stdout",
     "output_type": "stream",
     "text": [
      "Running agent with messages: Show me the code for graph of sales by store in Nov 2021, and tell me what trends you see.\n",
      "Making router call to OpenAI\n",
      "Received response with tool calls: True\n",
      "Processing tool calls\n",
      "```sql\n",
      "SELECT Store_Number, SUM(Qty_Sold) AS Total_Qty_Sold, SUM(Total_Sale_Value) AS Total_Sale_Value\n",
      "FROM sales\n",
      "WHERE Sold_Date >= '2021-11-01' AND Sold_Date <= '2021-11-30'\n",
      "GROUP BY Store_Number;\n",
      "```\n",
      "Making router call to OpenAI\n",
      "Received response with tool calls: True\n",
      "Processing tool calls\n",
      "Making router call to OpenAI\n",
      "Received response with tool calls: False\n",
      "No tool calls, returning final response\n"
     ]
    }
   ],
   "source": [
    "result = run_agent('Show me the code for graph of sales by store in Nov 2021, and tell me what trends you see.')"
   ]
  },
  {
   "cell_type": "code",
   "execution_count": 28,
   "id": "19f4b3f6-2628-4992-aa78-3ba92b0b4051",
   "metadata": {
    "tags": []
   },
   "outputs": [
    {
     "name": "stdout",
     "output_type": "stream",
     "text": [
      "Here's the code to generate a graph of sales by store for November 2021:\n",
      "\n",
      "```python\n",
      "import pandas as pd\n",
      "import matplotlib.pyplot as plt\n",
      "from io import StringIO\n",
      "\n",
      "data = \"\"\"Store_Number  Total_Qty_Sold  Total_Sale_Value\n",
      "0            880          1525.0      17753.769956\n",
      "1           4730           819.0      10571.779962\n",
      "2           1540          1801.0      21207.689942\n",
      "3           1210          1821.0      21021.669984\n",
      "4           1650          1770.0      23186.909958\n",
      "5            330          1105.0      12569.599911\n",
      "6           4840          1612.0      19127.169971\n",
      "7           1320          1701.0      19553.789981\n",
      "8           3190          1003.0      11934.999961\n",
      "9           1760          1207.0      14598.209948\n",
      "10          4180           913.0      10213.819920\n",
      "11          4070           932.0       9161.409921\n",
      "12          3080          1454.0      18044.450005\n",
      "13          1980           893.0       9084.959929\n",
      "14          1100          1712.0      19298.679917\n",
      "15          2750          1462.0      16310.409961\n",
      "16          2090          1080.0      11617.179888\n",
      "17          3300          1859.0      23730.719905\n",
      "18           550           764.0       9554.049975\n",
      "19          2640          1005.0      10891.639931\n",
      "20          2970          2312.0      31000.569969\n",
      "21          3410          1345.0      15982.159946\n",
      "22           660          1208.0      13041.239901\n",
      "23           990          1280.0      15101.459945\n",
      "24          1870          1648.0      17091.849894\n",
      "25          2200          1513.0      16854.439921\n",
      "26          2310          1594.0      16611.539945\n",
      "27           770           973.0       9181.769959\n",
      "28          2420          1370.0      15234.709888\n",
      "29          4400           225.0       4390.689987\n",
      "30          3740           949.0      10719.049952\n",
      "31          3630          1311.0      14202.299958\n",
      "32          2530           890.0      11139.740003\n",
      "\"\"\"\n",
      "\n",
      "# Create a DataFrame\n",
      "df = pd.read_csv(StringIO(data), sep=\"\\s+\")\n",
      "\n",
      "# Plotting the chart\n",
      "plt.figure(figsize=(10, 5))\n",
      "plt.plot(df['Store_Number'], df['Total_Sale_Value'], marker='o')\n",
      "plt.title('Sales by Store for November 2021')\n",
      "plt.xlabel('Store Number')\n",
      "plt.ylabel('Total Sale Value')\n",
      "plt.grid()\n",
      "plt.show()\n",
      "```\n",
      "\n",
      "### Trends Observed:\n",
      "\n",
      "1. **Highest Sales Value**: Store Number 2970 has the highest sales value at approximately $31,000. This suggests it is one of the more successful stores in attracting customers or selling higher-priced items.\n",
      "\n",
      "2. **Sales Distribution**: There is significant variation in sales among the stores. Most stores have sales values below $20,000, indicating that while some stores are performing exceptionally well, many others are comparatively underperforming.\n",
      "\n",
      "3. **Lowest Sales Value**: Store Number 4400 has the lowest sales value of around $4,390, which indicates either low customer traffic or potential issues in merchandise appeal.\n",
      "\n",
      "4. **Potential Outliers**: The stores with extreme values (both high and low) may need further investigation to understand what differentiates their performance from others. This could involve analyzing store location, product offerings, and marketing efforts.\n",
      "\n",
      "5. **Consistent Middle Range**: A number of stores fall within the $10,000 to $20,000 range, suggesting a fairly consistent performance among those stores, which may indicate average customer engagement or product appeal.\n",
      "\n",
      "These trends can help in making strategic decisions about inventory, marketing, and management for each store.\n"
     ]
    }
   ],
   "source": [
    "print(result)\n",
    "# you can also print a formatted version of the result\n",
    "# Markdown(result)"
   ]
  },
  {
   "cell_type": "code",
   "execution_count": null,
   "id": "1c95c828-64ed-485b-8c01-acc84838fd22",
   "metadata": {},
   "outputs": [],
   "source": []
  }
 ],
 "metadata": {
  "kernelspec": {
   "display_name": "Python 3.10 - SDK v2",
   "language": "python",
   "name": "python310-sdkv2"
  },
  "language_info": {
   "codemirror_mode": {
    "name": "ipython",
    "version": 3
   },
   "file_extension": ".py",
   "mimetype": "text/x-python",
   "name": "python",
   "nbconvert_exporter": "python",
   "pygments_lexer": "ipython3",
   "version": "3.10.16"
  }
 },
 "nbformat": 4,
 "nbformat_minor": 5
}
